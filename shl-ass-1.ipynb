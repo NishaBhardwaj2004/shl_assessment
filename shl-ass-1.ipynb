{
 "cells": [
  {
   "cell_type": "code",
   "execution_count": 1,
   "id": "3567a28e",
   "metadata": {
    "_cell_guid": "b1076dfc-b9ad-4769-8c92-a6c4dae69d19",
    "_uuid": "8f2839f25d086af736a60e9eeb907d3b93b6e0e5",
    "execution": {
     "iopub.execute_input": "2025-05-09T05:21:59.861682Z",
     "iopub.status.busy": "2025-05-09T05:21:59.861348Z",
     "iopub.status.idle": "2025-05-09T05:22:04.269911Z",
     "shell.execute_reply": "2025-05-09T05:22:04.268876Z"
    },
    "papermill": {
     "duration": 4.416988,
     "end_time": "2025-05-09T05:22:04.272201",
     "exception": false,
     "start_time": "2025-05-09T05:21:59.855213",
     "status": "completed"
    },
    "tags": []
   },
   "outputs": [
    {
     "name": "stdout",
     "output_type": "stream",
     "text": [
      "/kaggle/input/shl-hiring-assessment/Dataset/sample_submission.csv\n",
      "/kaggle/input/shl-hiring-assessment/Dataset/train.csv\n",
      "/kaggle/input/shl-hiring-assessment/Dataset/test.csv\n",
      "/kaggle/input/shl-hiring-assessment/Dataset/audios/test/audio_885.wav\n",
      "/kaggle/input/shl-hiring-assessment/Dataset/audios/test/audio_1142.wav\n",
      "/kaggle/input/shl-hiring-assessment/Dataset/audios/test/audio_1006.wav\n",
      "/kaggle/input/shl-hiring-assessment/Dataset/audios/test/audio_817.wav\n",
      "/kaggle/input/shl-hiring-assessment/Dataset/audios/test/audio_765.wav\n",
      "/kaggle/input/shl-hiring-assessment/Dataset/audios/test/audio_508.wav\n",
      "/kaggle/input/shl-hiring-assessment/Dataset/audios/test/audio_257.wav\n",
      "/kaggle/input/shl-hiring-assessment/Dataset/audios/test/audio_330.wav\n",
      "/kaggle/input/shl-hiring-assessment/Dataset/audios/test/audio_72.wav\n",
      "/kaggle/input/shl-hiring-assessment/Dataset/audios/test/audio_328.wav\n",
      "/kaggle/input/shl-hiring-assessment/Dataset/audios/test/audio_858.wav\n",
      "/kaggle/input/shl-hiring-assessment/Dataset/audios/test/audio_464.wav\n",
      "/kaggle/input/shl-hiring-assessment/Dataset/audios/test/audio_505.wav\n",
      "/kaggle/input/shl-hiring-assessment/Dataset/audios/test/audio_853.wav\n",
      "/kaggle/input/shl-hiring-assessment/Dataset/audios/test/audio_1001.wav\n",
      "/kaggle/input/shl-hiring-assessment/Dataset/audios/test/audio_855.wav\n",
      "/kaggle/input/shl-hiring-assessment/Dataset/audios/test/audio_995.wav\n",
      "/kaggle/input/shl-hiring-assessment/Dataset/audios/test/audio_472.wav\n",
      "/kaggle/input/shl-hiring-assessment/Dataset/audios/test/audio_1028.wav\n",
      "/kaggle/input/shl-hiring-assessment/Dataset/audios/test/audio_550.wav\n",
      "/kaggle/input/shl-hiring-assessment/Dataset/audios/test/audio_841.wav\n",
      "/kaggle/input/shl-hiring-assessment/Dataset/audios/test/audio_256.wav\n",
      "/kaggle/input/shl-hiring-assessment/Dataset/audios/test/audio_641.wav\n",
      "/kaggle/input/shl-hiring-assessment/Dataset/audios/test/audio_1131.wav\n",
      "/kaggle/input/shl-hiring-assessment/Dataset/audios/test/audio_234.wav\n",
      "/kaggle/input/shl-hiring-assessment/Dataset/audios/test/audio_284.wav\n",
      "/kaggle/input/shl-hiring-assessment/Dataset/audios/test/audio_188.wav\n",
      "/kaggle/input/shl-hiring-assessment/Dataset/audios/test/audio_1220.wav\n",
      "/kaggle/input/shl-hiring-assessment/Dataset/audios/test/audio_67.wav\n",
      "/kaggle/input/shl-hiring-assessment/Dataset/audios/test/audio_818.wav\n",
      "/kaggle/input/shl-hiring-assessment/Dataset/audios/test/audio_967.wav\n",
      "/kaggle/input/shl-hiring-assessment/Dataset/audios/test/audio_709.wav\n",
      "/kaggle/input/shl-hiring-assessment/Dataset/audios/test/audio_872.wav\n",
      "/kaggle/input/shl-hiring-assessment/Dataset/audios/test/audio_1165.wav\n",
      "/kaggle/input/shl-hiring-assessment/Dataset/audios/test/audio_415.wav\n",
      "/kaggle/input/shl-hiring-assessment/Dataset/audios/test/audio_714.wav\n",
      "/kaggle/input/shl-hiring-assessment/Dataset/audios/test/audio_1231.wav\n",
      "/kaggle/input/shl-hiring-assessment/Dataset/audios/test/audio_430.wav\n",
      "/kaggle/input/shl-hiring-assessment/Dataset/audios/test/audio_27.wav\n",
      "/kaggle/input/shl-hiring-assessment/Dataset/audios/test/audio_1207.wav\n",
      "/kaggle/input/shl-hiring-assessment/Dataset/audios/test/audio_922.wav\n",
      "/kaggle/input/shl-hiring-assessment/Dataset/audios/test/audio_976.wav\n",
      "/kaggle/input/shl-hiring-assessment/Dataset/audios/test/audio_1180.wav\n",
      "/kaggle/input/shl-hiring-assessment/Dataset/audios/test/audio_327.wav\n",
      "/kaggle/input/shl-hiring-assessment/Dataset/audios/test/audio_1212.wav\n",
      "/kaggle/input/shl-hiring-assessment/Dataset/audios/test/audio_1092.wav\n",
      "/kaggle/input/shl-hiring-assessment/Dataset/audios/test/audio_1270.wav\n",
      "/kaggle/input/shl-hiring-assessment/Dataset/audios/test/audio_1163.wav\n",
      "/kaggle/input/shl-hiring-assessment/Dataset/audios/test/audio_1041.wav\n",
      "/kaggle/input/shl-hiring-assessment/Dataset/audios/test/audio_940.wav\n",
      "/kaggle/input/shl-hiring-assessment/Dataset/audios/test/audio_563.wav\n",
      "/kaggle/input/shl-hiring-assessment/Dataset/audios/test/audio_661.wav\n",
      "/kaggle/input/shl-hiring-assessment/Dataset/audios/test/audio_220.wav\n",
      "/kaggle/input/shl-hiring-assessment/Dataset/audios/test/audio_57.wav\n",
      "/kaggle/input/shl-hiring-assessment/Dataset/audios/test/audio_1136.wav\n",
      "/kaggle/input/shl-hiring-assessment/Dataset/audios/test/audio_1179.wav\n",
      "/kaggle/input/shl-hiring-assessment/Dataset/audios/test/audio_41.wav\n",
      "/kaggle/input/shl-hiring-assessment/Dataset/audios/test/audio_590.wav\n",
      "/kaggle/input/shl-hiring-assessment/Dataset/audios/test/audio_1294.wav\n",
      "/kaggle/input/shl-hiring-assessment/Dataset/audios/test/audio_161.wav\n",
      "/kaggle/input/shl-hiring-assessment/Dataset/audios/test/audio_1069.wav\n",
      "/kaggle/input/shl-hiring-assessment/Dataset/audios/test/audio_261.wav\n",
      "/kaggle/input/shl-hiring-assessment/Dataset/audios/test/audio_1246.wav\n",
      "/kaggle/input/shl-hiring-assessment/Dataset/audios/test/audio_89.wav\n",
      "/kaggle/input/shl-hiring-assessment/Dataset/audios/test/audio_952.wav\n",
      "/kaggle/input/shl-hiring-assessment/Dataset/audios/test/audio_846.wav\n",
      "/kaggle/input/shl-hiring-assessment/Dataset/audios/test/audio_909.wav\n",
      "/kaggle/input/shl-hiring-assessment/Dataset/audios/test/audio_1088.wav\n",
      "/kaggle/input/shl-hiring-assessment/Dataset/audios/test/audio_989.wav\n",
      "/kaggle/input/shl-hiring-assessment/Dataset/audios/test/audio_865.wav\n",
      "/kaggle/input/shl-hiring-assessment/Dataset/audios/test/audio_278.wav\n",
      "/kaggle/input/shl-hiring-assessment/Dataset/audios/test/audio_1300.wav\n",
      "/kaggle/input/shl-hiring-assessment/Dataset/audios/test/audio_298.wav\n",
      "/kaggle/input/shl-hiring-assessment/Dataset/audios/test/audio_178.wav\n",
      "/kaggle/input/shl-hiring-assessment/Dataset/audios/test/audio_674.wav\n",
      "/kaggle/input/shl-hiring-assessment/Dataset/audios/test/audio_1104.wav\n",
      "/kaggle/input/shl-hiring-assessment/Dataset/audios/test/audio_966.wav\n",
      "/kaggle/input/shl-hiring-assessment/Dataset/audios/test/audio_1134.wav\n",
      "/kaggle/input/shl-hiring-assessment/Dataset/audios/test/audio_1079.wav\n",
      "/kaggle/input/shl-hiring-assessment/Dataset/audios/test/audio_1329.wav\n",
      "/kaggle/input/shl-hiring-assessment/Dataset/audios/test/audio_542.wav\n",
      "/kaggle/input/shl-hiring-assessment/Dataset/audios/test/audio_954.wav\n",
      "/kaggle/input/shl-hiring-assessment/Dataset/audios/test/audio_171.wav\n",
      "/kaggle/input/shl-hiring-assessment/Dataset/audios/test/audio_530.wav\n",
      "/kaggle/input/shl-hiring-assessment/Dataset/audios/test/audio_822.wav\n",
      "/kaggle/input/shl-hiring-assessment/Dataset/audios/test/audio_14.wav\n",
      "/kaggle/input/shl-hiring-assessment/Dataset/audios/test/audio_689.wav\n",
      "/kaggle/input/shl-hiring-assessment/Dataset/audios/test/audio_309.wav\n",
      "/kaggle/input/shl-hiring-assessment/Dataset/audios/test/audio_1046.wav\n",
      "/kaggle/input/shl-hiring-assessment/Dataset/audios/test/audio_502.wav\n",
      "/kaggle/input/shl-hiring-assessment/Dataset/audios/test/audio_568.wav\n",
      "/kaggle/input/shl-hiring-assessment/Dataset/audios/test/audio_80.wav\n",
      "/kaggle/input/shl-hiring-assessment/Dataset/audios/test/audio_13.wav\n",
      "/kaggle/input/shl-hiring-assessment/Dataset/audios/test/audio_668.wav\n",
      "/kaggle/input/shl-hiring-assessment/Dataset/audios/test/audio_1170.wav\n",
      "/kaggle/input/shl-hiring-assessment/Dataset/audios/test/audio_47.wav\n",
      "/kaggle/input/shl-hiring-assessment/Dataset/audios/test/audio_218.wav\n",
      "/kaggle/input/shl-hiring-assessment/Dataset/audios/test/audio_1316.wav\n",
      "/kaggle/input/shl-hiring-assessment/Dataset/audios/test/audio_904.wav\n",
      "/kaggle/input/shl-hiring-assessment/Dataset/audios/test/audio_268.wav\n",
      "/kaggle/input/shl-hiring-assessment/Dataset/audios/test/audio_130.wav\n",
      "/kaggle/input/shl-hiring-assessment/Dataset/audios/test/audio_273.wav\n",
      "/kaggle/input/shl-hiring-assessment/Dataset/audios/test/audio_962.wav\n",
      "/kaggle/input/shl-hiring-assessment/Dataset/audios/test/audio_1226.wav\n",
      "/kaggle/input/shl-hiring-assessment/Dataset/audios/test/audio_452.wav\n",
      "/kaggle/input/shl-hiring-assessment/Dataset/audios/test/audio_585.wav\n",
      "/kaggle/input/shl-hiring-assessment/Dataset/audios/test/audio_1286.wav\n",
      "/kaggle/input/shl-hiring-assessment/Dataset/audios/test/audio_692.wav\n",
      "/kaggle/input/shl-hiring-assessment/Dataset/audios/test/audio_357.wav\n",
      "/kaggle/input/shl-hiring-assessment/Dataset/audios/test/audio_335.wav\n",
      "/kaggle/input/shl-hiring-assessment/Dataset/audios/test/audio_681.wav\n",
      "/kaggle/input/shl-hiring-assessment/Dataset/audios/test/audio_1186.wav\n",
      "/kaggle/input/shl-hiring-assessment/Dataset/audios/test/audio_766.wav\n",
      "/kaggle/input/shl-hiring-assessment/Dataset/audios/test/audio_686.wav\n",
      "/kaggle/input/shl-hiring-assessment/Dataset/audios/test/audio_1099.wav\n",
      "/kaggle/input/shl-hiring-assessment/Dataset/audios/test/audio_339.wav\n",
      "/kaggle/input/shl-hiring-assessment/Dataset/audios/test/audio_534.wav\n",
      "/kaggle/input/shl-hiring-assessment/Dataset/audios/test/audio_531.wav\n",
      "/kaggle/input/shl-hiring-assessment/Dataset/audios/test/audio_1326.wav\n",
      "/kaggle/input/shl-hiring-assessment/Dataset/audios/test/audio_397.wav\n",
      "/kaggle/input/shl-hiring-assessment/Dataset/audios/test/audio_1218.wav\n",
      "/kaggle/input/shl-hiring-assessment/Dataset/audios/test/audio_453.wav\n",
      "/kaggle/input/shl-hiring-assessment/Dataset/audios/test/audio_670.wav\n",
      "/kaggle/input/shl-hiring-assessment/Dataset/audios/test/audio_1090.wav\n",
      "/kaggle/input/shl-hiring-assessment/Dataset/audios/test/audio_1102.wav\n",
      "/kaggle/input/shl-hiring-assessment/Dataset/audios/test/audio_24.wav\n",
      "/kaggle/input/shl-hiring-assessment/Dataset/audios/test/audio_978.wav\n",
      "/kaggle/input/shl-hiring-assessment/Dataset/audios/test/audio_746.wav\n",
      "/kaggle/input/shl-hiring-assessment/Dataset/audios/test/audio_1158.wav\n",
      "/kaggle/input/shl-hiring-assessment/Dataset/audios/test/audio_682.wav\n",
      "/kaggle/input/shl-hiring-assessment/Dataset/audios/test/audio_324.wav\n",
      "/kaggle/input/shl-hiring-assessment/Dataset/audios/test/audio_358.wav\n",
      "/kaggle/input/shl-hiring-assessment/Dataset/audios/test/audio_377.wav\n",
      "/kaggle/input/shl-hiring-assessment/Dataset/audios/test/audio_744.wav\n",
      "/kaggle/input/shl-hiring-assessment/Dataset/audios/test/audio_249.wav\n",
      "/kaggle/input/shl-hiring-assessment/Dataset/audios/test/audio_956.wav\n",
      "/kaggle/input/shl-hiring-assessment/Dataset/audios/test/audio_854.wav\n",
      "/kaggle/input/shl-hiring-assessment/Dataset/audios/test/audio_981.wav\n",
      "/kaggle/input/shl-hiring-assessment/Dataset/audios/test/audio_245.wav\n",
      "/kaggle/input/shl-hiring-assessment/Dataset/audios/test/audio_903.wav\n",
      "/kaggle/input/shl-hiring-assessment/Dataset/audios/test/audio_749.wav\n",
      "/kaggle/input/shl-hiring-assessment/Dataset/audios/test/audio_929.wav\n",
      "/kaggle/input/shl-hiring-assessment/Dataset/audios/test/audio_529.wav\n",
      "/kaggle/input/shl-hiring-assessment/Dataset/audios/test/audio_828.wav\n",
      "/kaggle/input/shl-hiring-assessment/Dataset/audios/test/audio_236.wav\n",
      "/kaggle/input/shl-hiring-assessment/Dataset/audios/test/audio_200.wav\n",
      "/kaggle/input/shl-hiring-assessment/Dataset/audios/test/audio_935.wav\n",
      "/kaggle/input/shl-hiring-assessment/Dataset/audios/test/audio_1200.wav\n",
      "/kaggle/input/shl-hiring-assessment/Dataset/audios/test/audio_353.wav\n",
      "/kaggle/input/shl-hiring-assessment/Dataset/audios/test/audio_1055.wav\n",
      "/kaggle/input/shl-hiring-assessment/Dataset/audios/test/audio_1255.wav\n",
      "/kaggle/input/shl-hiring-assessment/Dataset/audios/test/audio_501.wav\n",
      "/kaggle/input/shl-hiring-assessment/Dataset/audios/test/audio_947.wav\n",
      "/kaggle/input/shl-hiring-assessment/Dataset/audios/test/audio_1217.wav\n",
      "/kaggle/input/shl-hiring-assessment/Dataset/audios/test/audio_804.wav\n",
      "/kaggle/input/shl-hiring-assessment/Dataset/audios/test/audio_168.wav\n",
      "/kaggle/input/shl-hiring-assessment/Dataset/audios/test/audio_701.wav\n",
      "/kaggle/input/shl-hiring-assessment/Dataset/audios/test/audio_117.wav\n",
      "/kaggle/input/shl-hiring-assessment/Dataset/audios/test/audio_780.wav\n",
      "/kaggle/input/shl-hiring-assessment/Dataset/audios/test/audio_1059.wav\n",
      "/kaggle/input/shl-hiring-assessment/Dataset/audios/test/audio_390.wav\n",
      "/kaggle/input/shl-hiring-assessment/Dataset/audios/test/audio_599.wav\n",
      "/kaggle/input/shl-hiring-assessment/Dataset/audios/test/audio_153.wav\n",
      "/kaggle/input/shl-hiring-assessment/Dataset/audios/test/audio_988.wav\n",
      "/kaggle/input/shl-hiring-assessment/Dataset/audios/test/audio_241.wav\n",
      "/kaggle/input/shl-hiring-assessment/Dataset/audios/test/audio_481.wav\n",
      "/kaggle/input/shl-hiring-assessment/Dataset/audios/test/audio_652.wav\n",
      "/kaggle/input/shl-hiring-assessment/Dataset/audios/test/audio_483.wav\n",
      "/kaggle/input/shl-hiring-assessment/Dataset/audios/test/audio_787.wav\n",
      "/kaggle/input/shl-hiring-assessment/Dataset/audios/test/audio_1291.wav\n",
      "/kaggle/input/shl-hiring-assessment/Dataset/audios/test/audio_1258.wav\n",
      "/kaggle/input/shl-hiring-assessment/Dataset/audios/test/audio_1039.wav\n",
      "/kaggle/input/shl-hiring-assessment/Dataset/audios/test/audio_902.wav\n",
      "/kaggle/input/shl-hiring-assessment/Dataset/audios/test/audio_373.wav\n",
      "/kaggle/input/shl-hiring-assessment/Dataset/audios/test/audio_1138.wav\n",
      "/kaggle/input/shl-hiring-assessment/Dataset/audios/test/audio_1025.wav\n",
      "/kaggle/input/shl-hiring-assessment/Dataset/audios/test/audio_647.wav\n",
      "/kaggle/input/shl-hiring-assessment/Dataset/audios/test/audio_1225.wav\n",
      "/kaggle/input/shl-hiring-assessment/Dataset/audios/test/audio_1011.wav\n",
      "/kaggle/input/shl-hiring-assessment/Dataset/audios/test/audio_108.wav\n",
      "/kaggle/input/shl-hiring-assessment/Dataset/audios/test/audio_34.wav\n",
      "/kaggle/input/shl-hiring-assessment/Dataset/audios/test/audio_938.wav\n",
      "/kaggle/input/shl-hiring-assessment/Dataset/audios/test/audio_376.wav\n",
      "/kaggle/input/shl-hiring-assessment/Dataset/audios/test/audio_769.wav\n",
      "/kaggle/input/shl-hiring-assessment/Dataset/audios/test/audio_554.wav\n",
      "/kaggle/input/shl-hiring-assessment/Dataset/audios/test/audio_407.wav\n",
      "/kaggle/input/shl-hiring-assessment/Dataset/audios/test/audio_99.wav\n",
      "/kaggle/input/shl-hiring-assessment/Dataset/audios/test/audio_449.wav\n",
      "/kaggle/input/shl-hiring-assessment/Dataset/audios/test/audio_548.wav\n",
      "/kaggle/input/shl-hiring-assessment/Dataset/audios/test/audio_664.wav\n",
      "/kaggle/input/shl-hiring-assessment/Dataset/audios/test/audio_33.wav\n",
      "/kaggle/input/shl-hiring-assessment/Dataset/audios/test/audio_248.wav\n",
      "/kaggle/input/shl-hiring-assessment/Dataset/audios/test/audio_774.wav\n",
      "/kaggle/input/shl-hiring-assessment/Dataset/audios/test/audio_827.wav\n",
      "/kaggle/input/shl-hiring-assessment/Dataset/audios/test/audio_748.wav\n",
      "/kaggle/input/shl-hiring-assessment/Dataset/audios/test/audio_301.wav\n",
      "/kaggle/input/shl-hiring-assessment/Dataset/audios/test/audio_128.wav\n",
      "/kaggle/input/shl-hiring-assessment/Dataset/audios/test/audio_637.wav\n",
      "/kaggle/input/shl-hiring-assessment/Dataset/audios/test/audio_267.wav\n",
      "/kaggle/input/shl-hiring-assessment/Dataset/audios/test/audio_915.wav\n",
      "/kaggle/input/shl-hiring-assessment/Dataset/audios/test/audio_1166.wav\n",
      "/kaggle/input/shl-hiring-assessment/Dataset/audios/test/audio_450.wav\n",
      "/kaggle/input/shl-hiring-assessment/Dataset/audios/test/audio_612.wav\n",
      "/kaggle/input/shl-hiring-assessment/Dataset/audios/test/audio_1187.wav\n",
      "/kaggle/input/shl-hiring-assessment/Dataset/audios/train/audio_698.wav\n",
      "/kaggle/input/shl-hiring-assessment/Dataset/audios/train/audio_1176.wav\n",
      "/kaggle/input/shl-hiring-assessment/Dataset/audios/train/audio_77.wav\n",
      "/kaggle/input/shl-hiring-assessment/Dataset/audios/train/audio_1215.wav\n",
      "/kaggle/input/shl-hiring-assessment/Dataset/audios/train/audio_66.wav\n",
      "/kaggle/input/shl-hiring-assessment/Dataset/audios/train/audio_894.wav\n",
      "/kaggle/input/shl-hiring-assessment/Dataset/audios/train/audio_54.wav\n",
      "/kaggle/input/shl-hiring-assessment/Dataset/audios/train/audio_1232.wav\n",
      "/kaggle/input/shl-hiring-assessment/Dataset/audios/train/audio_694.wav\n",
      "/kaggle/input/shl-hiring-assessment/Dataset/audios/train/audio_237.wav\n",
      "/kaggle/input/shl-hiring-assessment/Dataset/audios/train/audio_1032.wav\n",
      "/kaggle/input/shl-hiring-assessment/Dataset/audios/train/audio_688.wav\n",
      "/kaggle/input/shl-hiring-assessment/Dataset/audios/train/audio_752.wav\n",
      "/kaggle/input/shl-hiring-assessment/Dataset/audios/train/audio_596.wav\n",
      "/kaggle/input/shl-hiring-assessment/Dataset/audios/train/audio_638.wav\n",
      "/kaggle/input/shl-hiring-assessment/Dataset/audios/train/audio_886.wav\n",
      "/kaggle/input/shl-hiring-assessment/Dataset/audios/train/audio_711.wav\n",
      "/kaggle/input/shl-hiring-assessment/Dataset/audios/train/audio_741.wav\n",
      "/kaggle/input/shl-hiring-assessment/Dataset/audios/train/audio_936.wav\n",
      "/kaggle/input/shl-hiring-assessment/Dataset/audios/train/audio_538.wav\n",
      "/kaggle/input/shl-hiring-assessment/Dataset/audios/train/audio_1271.wav\n",
      "/kaggle/input/shl-hiring-assessment/Dataset/audios/train/audio_859.wav\n",
      "/kaggle/input/shl-hiring-assessment/Dataset/audios/train/audio_845.wav\n",
      "/kaggle/input/shl-hiring-assessment/Dataset/audios/train/audio_821.wav\n",
      "/kaggle/input/shl-hiring-assessment/Dataset/audios/train/audio_164.wav\n",
      "/kaggle/input/shl-hiring-assessment/Dataset/audios/train/audio_1266.wav\n",
      "/kaggle/input/shl-hiring-assessment/Dataset/audios/train/audio_1005.wav\n",
      "/kaggle/input/shl-hiring-assessment/Dataset/audios/train/audio_1036.wav\n",
      "/kaggle/input/shl-hiring-assessment/Dataset/audios/train/audio_994.wav\n",
      "/kaggle/input/shl-hiring-assessment/Dataset/audios/train/audio_760.wav\n",
      "/kaggle/input/shl-hiring-assessment/Dataset/audios/train/audio_315.wav\n",
      "/kaggle/input/shl-hiring-assessment/Dataset/audios/train/audio_1284.wav\n",
      "/kaggle/input/shl-hiring-assessment/Dataset/audios/train/audio_1152.wav\n",
      "/kaggle/input/shl-hiring-assessment/Dataset/audios/train/audio_843.wav\n",
      "/kaggle/input/shl-hiring-assessment/Dataset/audios/train/audio_25.wav\n",
      "/kaggle/input/shl-hiring-assessment/Dataset/audios/train/audio_950.wav\n",
      "/kaggle/input/shl-hiring-assessment/Dataset/audios/train/audio_1199.wav\n",
      "/kaggle/input/shl-hiring-assessment/Dataset/audios/train/audio_753.wav\n",
      "/kaggle/input/shl-hiring-assessment/Dataset/audios/train/audio_1322.wav\n",
      "/kaggle/input/shl-hiring-assessment/Dataset/audios/train/audio_1224.wav\n",
      "/kaggle/input/shl-hiring-assessment/Dataset/audios/train/audio_7.wav\n",
      "/kaggle/input/shl-hiring-assessment/Dataset/audios/train/audio_1100.wav\n",
      "/kaggle/input/shl-hiring-assessment/Dataset/audios/train/audio_1157.wav\n",
      "/kaggle/input/shl-hiring-assessment/Dataset/audios/train/audio_406.wav\n",
      "/kaggle/input/shl-hiring-assessment/Dataset/audios/train/audio_321.wav\n",
      "/kaggle/input/shl-hiring-assessment/Dataset/audios/train/audio_20.wav\n",
      "/kaggle/input/shl-hiring-assessment/Dataset/audios/train/audio_59.wav\n",
      "/kaggle/input/shl-hiring-assessment/Dataset/audios/train/audio_802.wav\n",
      "/kaggle/input/shl-hiring-assessment/Dataset/audios/train/audio_518.wav\n",
      "/kaggle/input/shl-hiring-assessment/Dataset/audios/train/audio_1310.wav\n",
      "/kaggle/input/shl-hiring-assessment/Dataset/audios/train/audio_12.wav\n",
      "/kaggle/input/shl-hiring-assessment/Dataset/audios/train/audio_591.wav\n",
      "/kaggle/input/shl-hiring-assessment/Dataset/audios/train/audio_348.wav\n",
      "/kaggle/input/shl-hiring-assessment/Dataset/audios/train/audio_1082.wav\n",
      "/kaggle/input/shl-hiring-assessment/Dataset/audios/train/audio_537.wav\n",
      "/kaggle/input/shl-hiring-assessment/Dataset/audios/train/audio_444.wav\n",
      "/kaggle/input/shl-hiring-assessment/Dataset/audios/train/audio_959.wav\n",
      "/kaggle/input/shl-hiring-assessment/Dataset/audios/train/audio_404.wav\n",
      "/kaggle/input/shl-hiring-assessment/Dataset/audios/train/audio_254.wav\n",
      "/kaggle/input/shl-hiring-assessment/Dataset/audios/train/audio_338.wav\n",
      "/kaggle/input/shl-hiring-assessment/Dataset/audios/train/audio_990.wav\n",
      "/kaggle/input/shl-hiring-assessment/Dataset/audios/train/audio_233.wav\n",
      "/kaggle/input/shl-hiring-assessment/Dataset/audios/train/audio_539.wav\n",
      "/kaggle/input/shl-hiring-assessment/Dataset/audios/train/audio_276.wav\n",
      "/kaggle/input/shl-hiring-assessment/Dataset/audios/train/audio_1323.wav\n",
      "/kaggle/input/shl-hiring-assessment/Dataset/audios/train/audio_157.wav\n",
      "/kaggle/input/shl-hiring-assessment/Dataset/audios/train/audio_778.wav\n",
      "/kaggle/input/shl-hiring-assessment/Dataset/audios/train/audio_354.wav\n",
      "/kaggle/input/shl-hiring-assessment/Dataset/audios/train/audio_29.wav\n",
      "/kaggle/input/shl-hiring-assessment/Dataset/audios/train/audio_676.wav\n",
      "/kaggle/input/shl-hiring-assessment/Dataset/audios/train/audio_37.wav\n",
      "/kaggle/input/shl-hiring-assessment/Dataset/audios/train/audio_454.wav\n",
      "/kaggle/input/shl-hiring-assessment/Dataset/audios/train/audio_811.wav\n",
      "/kaggle/input/shl-hiring-assessment/Dataset/audios/train/audio_1183.wav\n",
      "/kaggle/input/shl-hiring-assessment/Dataset/audios/train/audio_946.wav\n",
      "/kaggle/input/shl-hiring-assessment/Dataset/audios/train/audio_600.wav\n",
      "/kaggle/input/shl-hiring-assessment/Dataset/audios/train/audio_1277.wav\n",
      "/kaggle/input/shl-hiring-assessment/Dataset/audios/train/audio_901.wav\n",
      "/kaggle/input/shl-hiring-assessment/Dataset/audios/train/audio_199.wav\n",
      "/kaggle/input/shl-hiring-assessment/Dataset/audios/train/audio_1336.wav\n",
      "/kaggle/input/shl-hiring-assessment/Dataset/audios/train/audio_1297.wav\n",
      "/kaggle/input/shl-hiring-assessment/Dataset/audios/train/audio_308.wav\n",
      "/kaggle/input/shl-hiring-assessment/Dataset/audios/train/audio_251.wav\n",
      "/kaggle/input/shl-hiring-assessment/Dataset/audios/train/audio_232.wav\n",
      "/kaggle/input/shl-hiring-assessment/Dataset/audios/train/audio_1054.wav\n",
      "/kaggle/input/shl-hiring-assessment/Dataset/audios/train/audio_631.wav\n",
      "/kaggle/input/shl-hiring-assessment/Dataset/audios/train/audio_495.wav\n",
      "/kaggle/input/shl-hiring-assessment/Dataset/audios/train/audio_265.wav\n",
      "/kaggle/input/shl-hiring-assessment/Dataset/audios/train/audio_1098.wav\n",
      "/kaggle/input/shl-hiring-assessment/Dataset/audios/train/audio_662.wav\n",
      "/kaggle/input/shl-hiring-assessment/Dataset/audios/train/audio_558.wav\n",
      "/kaggle/input/shl-hiring-assessment/Dataset/audios/train/audio_900.wav\n",
      "/kaggle/input/shl-hiring-assessment/Dataset/audios/train/audio_470.wav\n",
      "/kaggle/input/shl-hiring-assessment/Dataset/audios/train/audio_673.wav\n",
      "/kaggle/input/shl-hiring-assessment/Dataset/audios/train/audio_964.wav\n",
      "/kaggle/input/shl-hiring-assessment/Dataset/audios/train/audio_633.wav\n",
      "/kaggle/input/shl-hiring-assessment/Dataset/audios/train/audio_418.wav\n",
      "/kaggle/input/shl-hiring-assessment/Dataset/audios/train/audio_274.wav\n",
      "/kaggle/input/shl-hiring-assessment/Dataset/audios/train/audio_280.wav\n",
      "/kaggle/input/shl-hiring-assessment/Dataset/audios/train/audio_486.wav\n",
      "/kaggle/input/shl-hiring-assessment/Dataset/audios/train/audio_1337.wav\n",
      "/kaggle/input/shl-hiring-assessment/Dataset/audios/train/audio_231.wav\n",
      "/kaggle/input/shl-hiring-assessment/Dataset/audios/train/audio_567.wav\n",
      "/kaggle/input/shl-hiring-assessment/Dataset/audios/train/audio_374.wav\n",
      "/kaggle/input/shl-hiring-assessment/Dataset/audios/train/audio_1194.wav\n",
      "/kaggle/input/shl-hiring-assessment/Dataset/audios/train/audio_944.wav\n",
      "/kaggle/input/shl-hiring-assessment/Dataset/audios/train/audio_856.wav\n",
      "/kaggle/input/shl-hiring-assessment/Dataset/audios/train/audio_1084.wav\n",
      "/kaggle/input/shl-hiring-assessment/Dataset/audios/train/audio_230.wav\n",
      "/kaggle/input/shl-hiring-assessment/Dataset/audios/train/audio_1306.wav\n",
      "/kaggle/input/shl-hiring-assessment/Dataset/audios/train/audio_120.wav\n",
      "/kaggle/input/shl-hiring-assessment/Dataset/audios/train/audio_295.wav\n",
      "/kaggle/input/shl-hiring-assessment/Dataset/audios/train/audio_297.wav\n",
      "/kaggle/input/shl-hiring-assessment/Dataset/audios/train/audio_899.wav\n",
      "/kaggle/input/shl-hiring-assessment/Dataset/audios/train/audio_516.wav\n",
      "/kaggle/input/shl-hiring-assessment/Dataset/audios/train/audio_56.wav\n",
      "/kaggle/input/shl-hiring-assessment/Dataset/audios/train/audio_1103.wav\n",
      "/kaggle/input/shl-hiring-assessment/Dataset/audios/train/audio_346.wav\n",
      "/kaggle/input/shl-hiring-assessment/Dataset/audios/train/audio_1007.wav\n",
      "/kaggle/input/shl-hiring-assessment/Dataset/audios/train/audio_446.wav\n",
      "/kaggle/input/shl-hiring-assessment/Dataset/audios/train/audio_189.wav\n",
      "/kaggle/input/shl-hiring-assessment/Dataset/audios/train/audio_1236.wav\n",
      "/kaggle/input/shl-hiring-assessment/Dataset/audios/train/audio_277.wav\n",
      "/kaggle/input/shl-hiring-assessment/Dataset/audios/train/audio_957.wav\n",
      "/kaggle/input/shl-hiring-assessment/Dataset/audios/train/audio_491.wav\n",
      "/kaggle/input/shl-hiring-assessment/Dataset/audios/train/audio_1012.wav\n",
      "/kaggle/input/shl-hiring-assessment/Dataset/audios/train/audio_190.wav\n",
      "/kaggle/input/shl-hiring-assessment/Dataset/audios/train/audio_759.wav\n",
      "/kaggle/input/shl-hiring-assessment/Dataset/audios/train/audio_642.wav\n",
      "/kaggle/input/shl-hiring-assessment/Dataset/audios/train/audio_347.wav\n",
      "/kaggle/input/shl-hiring-assessment/Dataset/audios/train/audio_824.wav\n",
      "/kaggle/input/shl-hiring-assessment/Dataset/audios/train/audio_851.wav\n",
      "/kaggle/input/shl-hiring-assessment/Dataset/audios/train/audio_457.wav\n",
      "/kaggle/input/shl-hiring-assessment/Dataset/audios/train/audio_1253.wav\n",
      "/kaggle/input/shl-hiring-assessment/Dataset/audios/train/audio_1171.wav\n",
      "/kaggle/input/shl-hiring-assessment/Dataset/audios/train/audio_773.wav\n",
      "/kaggle/input/shl-hiring-assessment/Dataset/audios/train/audio_76.wav\n",
      "/kaggle/input/shl-hiring-assessment/Dataset/audios/train/audio_905.wav\n",
      "/kaggle/input/shl-hiring-assessment/Dataset/audios/train/audio_1015.wav\n",
      "/kaggle/input/shl-hiring-assessment/Dataset/audios/train/audio_205.wav\n",
      "/kaggle/input/shl-hiring-assessment/Dataset/audios/train/audio_361.wav\n",
      "/kaggle/input/shl-hiring-assessment/Dataset/audios/train/audio_1035.wav\n",
      "/kaggle/input/shl-hiring-assessment/Dataset/audios/train/audio_1159.wav\n",
      "/kaggle/input/shl-hiring-assessment/Dataset/audios/train/audio_497.wav\n",
      "/kaggle/input/shl-hiring-assessment/Dataset/audios/train/audio_928.wav\n",
      "/kaggle/input/shl-hiring-assessment/Dataset/audios/train/audio_102.wav\n",
      "/kaggle/input/shl-hiring-assessment/Dataset/audios/train/audio_399.wav\n",
      "/kaggle/input/shl-hiring-assessment/Dataset/audios/train/audio_296.wav\n",
      "/kaggle/input/shl-hiring-assessment/Dataset/audios/train/audio_860.wav\n",
      "/kaggle/input/shl-hiring-assessment/Dataset/audios/train/audio_942.wav\n",
      "/kaggle/input/shl-hiring-assessment/Dataset/audios/train/audio_881.wav\n",
      "/kaggle/input/shl-hiring-assessment/Dataset/audios/train/audio_499.wav\n",
      "/kaggle/input/shl-hiring-assessment/Dataset/audios/train/audio_1116.wav\n",
      "/kaggle/input/shl-hiring-assessment/Dataset/audios/train/audio_393.wav\n",
      "/kaggle/input/shl-hiring-assessment/Dataset/audios/train/audio_275.wav\n",
      "/kaggle/input/shl-hiring-assessment/Dataset/audios/train/audio_779.wav\n",
      "/kaggle/input/shl-hiring-assessment/Dataset/audios/train/audio_1278.wav\n",
      "/kaggle/input/shl-hiring-assessment/Dataset/audios/train/audio_370.wav\n",
      "/kaggle/input/shl-hiring-assessment/Dataset/audios/train/audio_410.wav\n",
      "/kaggle/input/shl-hiring-assessment/Dataset/audios/train/audio_1197.wav\n",
      "/kaggle/input/shl-hiring-assessment/Dataset/audios/train/audio_565.wav\n",
      "/kaggle/input/shl-hiring-assessment/Dataset/audios/train/audio_807.wav\n",
      "/kaggle/input/shl-hiring-assessment/Dataset/audios/train/audio_1241.wav\n",
      "/kaggle/input/shl-hiring-assessment/Dataset/audios/train/audio_4.wav\n",
      "/kaggle/input/shl-hiring-assessment/Dataset/audios/train/audio_356.wav\n",
      "/kaggle/input/shl-hiring-assessment/Dataset/audios/train/audio_162.wav\n",
      "/kaggle/input/shl-hiring-assessment/Dataset/audios/train/audio_118.wav\n",
      "/kaggle/input/shl-hiring-assessment/Dataset/audios/train/audio_1202.wav\n",
      "/kaggle/input/shl-hiring-assessment/Dataset/audios/train/audio_974.wav\n",
      "/kaggle/input/shl-hiring-assessment/Dataset/audios/train/audio_366.wav\n",
      "/kaggle/input/shl-hiring-assessment/Dataset/audios/train/audio_743.wav\n",
      "/kaggle/input/shl-hiring-assessment/Dataset/audios/train/audio_210.wav\n",
      "/kaggle/input/shl-hiring-assessment/Dataset/audios/train/audio_19.wav\n",
      "/kaggle/input/shl-hiring-assessment/Dataset/audios/train/audio_1228.wav\n",
      "/kaggle/input/shl-hiring-assessment/Dataset/audios/train/audio_998.wav\n",
      "/kaggle/input/shl-hiring-assessment/Dataset/audios/train/audio_1018.wav\n",
      "/kaggle/input/shl-hiring-assessment/Dataset/audios/train/audio_614.wav\n",
      "/kaggle/input/shl-hiring-assessment/Dataset/audios/train/audio_396.wav\n",
      "/kaggle/input/shl-hiring-assessment/Dataset/audios/train/audio_1239.wav\n",
      "/kaggle/input/shl-hiring-assessment/Dataset/audios/train/audio_583.wav\n",
      "/kaggle/input/shl-hiring-assessment/Dataset/audios/train/audio_1114.wav\n",
      "/kaggle/input/shl-hiring-assessment/Dataset/audios/train/audio_771.wav\n",
      "/kaggle/input/shl-hiring-assessment/Dataset/audios/train/audio_1049.wav\n",
      "/kaggle/input/shl-hiring-assessment/Dataset/audios/train/audio_829.wav\n",
      "/kaggle/input/shl-hiring-assessment/Dataset/audios/train/audio_1058.wav\n",
      "/kaggle/input/shl-hiring-assessment/Dataset/audios/train/audio_1182.wav\n",
      "/kaggle/input/shl-hiring-assessment/Dataset/audios/train/audio_1094.wav\n",
      "/kaggle/input/shl-hiring-assessment/Dataset/audios/train/audio_719.wav\n",
      "/kaggle/input/shl-hiring-assessment/Dataset/audios/train/audio_1205.wav\n",
      "/kaggle/input/shl-hiring-assessment/Dataset/audios/train/audio_930.wav\n",
      "/kaggle/input/shl-hiring-assessment/Dataset/audios/train/audio_801.wav\n",
      "/kaggle/input/shl-hiring-assessment/Dataset/audios/train/audio_1091.wav\n",
      "/kaggle/input/shl-hiring-assessment/Dataset/audios/train/audio_217.wav\n",
      "/kaggle/input/shl-hiring-assessment/Dataset/audios/train/audio_84.wav\n",
      "/kaggle/input/shl-hiring-assessment/Dataset/audios/train/audio_575.wav\n",
      "/kaggle/input/shl-hiring-assessment/Dataset/audios/train/audio_475.wav\n",
      "/kaggle/input/shl-hiring-assessment/Dataset/audios/train/audio_1045.wav\n",
      "/kaggle/input/shl-hiring-assessment/Dataset/audios/train/audio_258.wav\n",
      "/kaggle/input/shl-hiring-assessment/Dataset/audios/train/audio_23.wav\n",
      "/kaggle/input/shl-hiring-assessment/Dataset/audios/train/audio_593.wav\n",
      "/kaggle/input/shl-hiring-assessment/Dataset/audios/train/audio_592.wav\n",
      "/kaggle/input/shl-hiring-assessment/Dataset/audios/train/audio_423.wav\n",
      "/kaggle/input/shl-hiring-assessment/Dataset/audios/train/audio_1237.wav\n",
      "/kaggle/input/shl-hiring-assessment/Dataset/audios/train/audio_916.wav\n",
      "/kaggle/input/shl-hiring-assessment/Dataset/audios/train/audio_159.wav\n",
      "/kaggle/input/shl-hiring-assessment/Dataset/audios/train/audio_522.wav\n",
      "/kaggle/input/shl-hiring-assessment/Dataset/audios/train/audio_545.wav\n",
      "/kaggle/input/shl-hiring-assessment/Dataset/audios/train/audio_387.wav\n",
      "/kaggle/input/shl-hiring-assessment/Dataset/audios/train/audio_266.wav\n",
      "/kaggle/input/shl-hiring-assessment/Dataset/audios/train/audio_372.wav\n",
      "/kaggle/input/shl-hiring-assessment/Dataset/audios/train/audio_784.wav\n",
      "/kaggle/input/shl-hiring-assessment/Dataset/audios/train/audio_1133.wav\n",
      "/kaggle/input/shl-hiring-assessment/Dataset/audios/train/audio_93.wav\n",
      "/kaggle/input/shl-hiring-assessment/Dataset/audios/train/audio_331.wav\n",
      "/kaggle/input/shl-hiring-assessment/Dataset/audios/train/audio_849.wav\n",
      "/kaggle/input/shl-hiring-assessment/Dataset/audios/train/audio_934.wav\n",
      "/kaggle/input/shl-hiring-assessment/Dataset/audios/train/audio_215.wav\n",
      "/kaggle/input/shl-hiring-assessment/Dataset/audios/train/audio_826.wav\n",
      "/kaggle/input/shl-hiring-assessment/Dataset/audios/train/audio_659.wav\n",
      "/kaggle/input/shl-hiring-assessment/Dataset/audios/train/audio_364.wav\n",
      "/kaggle/input/shl-hiring-assessment/Dataset/audios/train/audio_654.wav\n",
      "/kaggle/input/shl-hiring-assessment/Dataset/audios/train/audio_1083.wav\n",
      "/kaggle/input/shl-hiring-assessment/Dataset/audios/train/audio_174.wav\n",
      "/kaggle/input/shl-hiring-assessment/Dataset/audios/train/audio_816.wav\n",
      "/kaggle/input/shl-hiring-assessment/Dataset/audios/train/audio_987.wav\n",
      "/kaggle/input/shl-hiring-assessment/Dataset/audios/train/audio_5.wav\n",
      "/kaggle/input/shl-hiring-assessment/Dataset/audios/train/audio_551.wav\n",
      "/kaggle/input/shl-hiring-assessment/Dataset/audios/train/audio_1120.wav\n",
      "/kaggle/input/shl-hiring-assessment/Dataset/audios/train/audio_1128.wav\n",
      "/kaggle/input/shl-hiring-assessment/Dataset/audios/train/audio_1066.wav\n",
      "/kaggle/input/shl-hiring-assessment/Dataset/audios/train/audio_1119.wav\n",
      "/kaggle/input/shl-hiring-assessment/Dataset/audios/train/audio_1221.wav\n",
      "/kaggle/input/shl-hiring-assessment/Dataset/audios/train/audio_628.wav\n",
      "/kaggle/input/shl-hiring-assessment/Dataset/audios/train/audio_622.wav\n",
      "/kaggle/input/shl-hiring-assessment/Dataset/audios/train/audio_763.wav\n",
      "/kaggle/input/shl-hiring-assessment/Dataset/audios/train/audio_355.wav\n",
      "/kaggle/input/shl-hiring-assessment/Dataset/audios/train/audio_553.wav\n",
      "/kaggle/input/shl-hiring-assessment/Dataset/audios/train/audio_85.wav\n",
      "/kaggle/input/shl-hiring-assessment/Dataset/audios/train/audio_574.wav\n",
      "/kaggle/input/shl-hiring-assessment/Dataset/audios/train/audio_182.wav\n",
      "/kaggle/input/shl-hiring-assessment/Dataset/audios/train/audio_756.wav\n",
      "/kaggle/input/shl-hiring-assessment/Dataset/audios/train/audio_800.wav\n",
      "/kaggle/input/shl-hiring-assessment/Dataset/audios/train/audio_38.wav\n",
      "/kaggle/input/shl-hiring-assessment/Dataset/audios/train/audio_469.wav\n",
      "/kaggle/input/shl-hiring-assessment/Dataset/audios/train/audio_965.wav\n",
      "/kaggle/input/shl-hiring-assessment/Dataset/audios/train/audio_148.wav\n",
      "/kaggle/input/shl-hiring-assessment/Dataset/audios/train/audio_127.wav\n",
      "/kaggle/input/shl-hiring-assessment/Dataset/audios/train/audio_677.wav\n",
      "/kaggle/input/shl-hiring-assessment/Dataset/audios/train/audio_434.wav\n",
      "/kaggle/input/shl-hiring-assessment/Dataset/audios/train/audio_691.wav\n",
      "/kaggle/input/shl-hiring-assessment/Dataset/audios/train/audio_1075.wav\n",
      "/kaggle/input/shl-hiring-assessment/Dataset/audios/train/audio_1030.wav\n",
      "/kaggle/input/shl-hiring-assessment/Dataset/audios/train/audio_239.wav\n",
      "/kaggle/input/shl-hiring-assessment/Dataset/audios/train/audio_252.wav\n",
      "/kaggle/input/shl-hiring-assessment/Dataset/audios/train/audio_871.wav\n",
      "/kaggle/input/shl-hiring-assessment/Dataset/audios/train/audio_326.wav\n",
      "/kaggle/input/shl-hiring-assessment/Dataset/audios/train/audio_288.wav\n",
      "/kaggle/input/shl-hiring-assessment/Dataset/audios/train/audio_98.wav\n",
      "/kaggle/input/shl-hiring-assessment/Dataset/audios/train/audio_1105.wav\n",
      "/kaggle/input/shl-hiring-assessment/Dataset/audios/train/audio_286.wav\n",
      "/kaggle/input/shl-hiring-assessment/Dataset/audios/train/audio_263.wav\n",
      "/kaggle/input/shl-hiring-assessment/Dataset/audios/train/audio_209.wav\n",
      "/kaggle/input/shl-hiring-assessment/Dataset/audios/train/audio_656.wav\n",
      "/kaggle/input/shl-hiring-assessment/Dataset/audios/train/audio_302.wav\n",
      "/kaggle/input/shl-hiring-assessment/Dataset/audios/train/audio_984.wav\n",
      "/kaggle/input/shl-hiring-assessment/Dataset/audios/train/audio_52.wav\n",
      "/kaggle/input/shl-hiring-assessment/Dataset/audios/train/audio_16.wav\n",
      "/kaggle/input/shl-hiring-assessment/Dataset/audios/train/audio_844.wav\n",
      "/kaggle/input/shl-hiring-assessment/Dataset/audios/train/audio_460.wav\n",
      "/kaggle/input/shl-hiring-assessment/Dataset/audios/train/audio_1111.wav\n",
      "/kaggle/input/shl-hiring-assessment/Dataset/audios/train/audio_594.wav\n",
      "/kaggle/input/shl-hiring-assessment/Dataset/audios/train/audio_679.wav\n",
      "/kaggle/input/shl-hiring-assessment/Dataset/audios/train/audio_1076.wav\n",
      "/kaggle/input/shl-hiring-assessment/Dataset/audios/train/audio_764.wav\n",
      "/kaggle/input/shl-hiring-assessment/Dataset/audios/train/audio_332.wav\n",
      "/kaggle/input/shl-hiring-assessment/Dataset/audios/train/audio_1151.wav\n",
      "/kaggle/input/shl-hiring-assessment/Dataset/audios/train/audio_1335.wav\n",
      "/kaggle/input/shl-hiring-assessment/Dataset/audios/train/audio_1173.wav\n",
      "/kaggle/input/shl-hiring-assessment/Dataset/audios/train/audio_78.wav\n",
      "/kaggle/input/shl-hiring-assessment/Dataset/audios/train/audio_388.wav\n",
      "/kaggle/input/shl-hiring-assessment/Dataset/audios/train/audio_700.wav\n",
      "/kaggle/input/shl-hiring-assessment/Dataset/audios/train/audio_224.wav\n",
      "/kaggle/input/shl-hiring-assessment/Dataset/audios/train/audio_939.wav\n",
      "/kaggle/input/shl-hiring-assessment/Dataset/audios/train/audio_1282.wav\n",
      "/kaggle/input/shl-hiring-assessment/Dataset/audios/train/audio_1002.wav\n",
      "/kaggle/input/shl-hiring-assessment/Dataset/audios/train/audio_375.wav\n",
      "/kaggle/input/shl-hiring-assessment/Dataset/audios/train/audio_383.wav\n",
      "/kaggle/input/shl-hiring-assessment/Dataset/audios/train/audio_996.wav\n",
      "/kaggle/input/shl-hiring-assessment/Dataset/audios/train/audio_921.wav\n",
      "/kaggle/input/shl-hiring-assessment/Dataset/audios/train/audio_515.wav\n",
      "/kaggle/input/shl-hiring-assessment/Dataset/audios/train/audio_30.wav\n",
      "/kaggle/input/shl-hiring-assessment/Dataset/audios/train/audio_745.wav\n",
      "/kaggle/input/shl-hiring-assessment/Dataset/audios/train/audio_216.wav\n",
      "/kaggle/input/shl-hiring-assessment/Dataset/audios/train/audio_1192.wav\n",
      "/kaggle/input/shl-hiring-assessment/Dataset/audios/train/audio_1219.wav\n",
      "/kaggle/input/shl-hiring-assessment/Dataset/audios/train/audio_949.wav\n",
      "/kaggle/input/shl-hiring-assessment/Dataset/audios/train/audio_459.wav\n",
      "/kaggle/input/shl-hiring-assessment/Dataset/audios/train/audio_362.wav\n",
      "/kaggle/input/shl-hiring-assessment/Dataset/audios/train/audio_908.wav\n",
      "/kaggle/input/shl-hiring-assessment/Dataset/audios/train/audio_482.wav\n",
      "/kaggle/input/shl-hiring-assessment/Dataset/audios/train/audio_158.wav\n",
      "/kaggle/input/shl-hiring-assessment/Dataset/audios/train/audio_1042.wav\n",
      "/kaggle/input/shl-hiring-assessment/Dataset/audios/train/audio_219.wav\n",
      "/kaggle/input/shl-hiring-assessment/Dataset/audios/train/audio_1309.wav\n",
      "/kaggle/input/shl-hiring-assessment/Dataset/audios/train/audio_533.wav\n",
      "/kaggle/input/shl-hiring-assessment/Dataset/audios/train/audio_154.wav\n",
      "/kaggle/input/shl-hiring-assessment/Dataset/audios/train/audio_958.wav\n",
      "/kaggle/input/shl-hiring-assessment/Dataset/audios/train/audio_1249.wav\n",
      "/kaggle/input/shl-hiring-assessment/Dataset/audios/train/audio_805.wav\n",
      "/kaggle/input/shl-hiring-assessment/Dataset/audios/train/audio_630.wav\n",
      "/kaggle/input/shl-hiring-assessment/Dataset/audios/train/audio_730.wav\n",
      "/kaggle/input/shl-hiring-assessment/Dataset/audios/train/audio_611.wav\n",
      "/kaggle/input/shl-hiring-assessment/Dataset/audios/train/audio_92.wav\n",
      "/kaggle/input/shl-hiring-assessment/Dataset/audios/train/audio_69.wav\n",
      "/kaggle/input/shl-hiring-assessment/Dataset/audios/train/audio_385.wav\n",
      "/kaggle/input/shl-hiring-assessment/Dataset/audios/train/audio_221.wav\n",
      "/kaggle/input/shl-hiring-assessment/Dataset/audios/train/audio_131.wav\n",
      "/kaggle/input/shl-hiring-assessment/Dataset/audios/train/audio_336.wav\n",
      "/kaggle/input/shl-hiring-assessment/Dataset/audios/train/audio_880.wav\n",
      "/kaggle/input/shl-hiring-assessment/Dataset/audios/train/audio_707.wav\n",
      "/kaggle/input/shl-hiring-assessment/Dataset/audios/train/audio_1238.wav\n",
      "/kaggle/input/shl-hiring-assessment/Dataset/audios/train/audio_1330.wav\n",
      "/kaggle/input/shl-hiring-assessment/Dataset/audios/train/audio_742.wav\n",
      "/kaggle/input/shl-hiring-assessment/Dataset/audios/train/audio_292.wav\n",
      "/kaggle/input/shl-hiring-assessment/Dataset/audios/train/audio_754.wav\n",
      "/kaggle/input/shl-hiring-assessment/Dataset/audios/train/audio_716.wav\n",
      "/kaggle/input/shl-hiring-assessment/Dataset/audios/train/audio_1276.wav\n",
      "/kaggle/input/shl-hiring-assessment/Dataset/audios/train/audio_985.wav\n",
      "/kaggle/input/shl-hiring-assessment/Dataset/audios/train/audio_1161.wav\n",
      "/kaggle/input/shl-hiring-assessment/Dataset/audios/train/audio_840.wav\n",
      "/kaggle/input/shl-hiring-assessment/Dataset/audios/train/audio_1029.wav\n",
      "/kaggle/input/shl-hiring-assessment/Dataset/audios/train/audio_68.wav\n",
      "/kaggle/input/shl-hiring-assessment/Dataset/audios/train/audio_671.wav\n",
      "/kaggle/input/shl-hiring-assessment/Dataset/audios/train/audio_432.wav\n",
      "/kaggle/input/shl-hiring-assessment/Dataset/audios/train/audio_1078.wav\n",
      "/kaggle/input/shl-hiring-assessment/Dataset/audios/train/audio_155.wav\n",
      "/kaggle/input/shl-hiring-assessment/Dataset/audios/train/audio_378.wav\n",
      "/kaggle/input/shl-hiring-assessment/Dataset/audios/train/audio_264.wav\n",
      "/kaggle/input/shl-hiring-assessment/Dataset/audios/train/audio_360.wav\n",
      "/kaggle/input/shl-hiring-assessment/Dataset/audios/train/audio_349.wav\n",
      "/kaggle/input/shl-hiring-assessment/Dataset/audios/train/audio_1240.wav\n",
      "/kaggle/input/shl-hiring-assessment/Dataset/audios/train/audio_212.wav\n",
      "/kaggle/input/shl-hiring-assessment/Dataset/audios/train/audio_183.wav\n",
      "/kaggle/input/shl-hiring-assessment/Dataset/audios/train/audio_474.wav\n",
      "/kaggle/input/shl-hiring-assessment/Dataset/audios/train/audio_419.wav\n",
      "/kaggle/input/shl-hiring-assessment/Dataset/audios/train/audio_316.wav\n",
      "/kaggle/input/shl-hiring-assessment/Dataset/audios/train/audio_1332.wav\n",
      "/kaggle/input/shl-hiring-assessment/Dataset/audios/train/audio_242.wav\n",
      "/kaggle/input/shl-hiring-assessment/Dataset/audios/train/audio_667.wav\n",
      "/kaggle/input/shl-hiring-assessment/Dataset/audios/train/audio_1254.wav\n",
      "/kaggle/input/shl-hiring-assessment/Dataset/audios/train/audio_1072.wav\n",
      "/kaggle/input/shl-hiring-assessment/Dataset/audios/train/audio_1132.wav\n",
      "/kaggle/input/shl-hiring-assessment/Dataset/audios/train/audio_825.wav\n",
      "/kaggle/input/shl-hiring-assessment/Dataset/audios/train/audio_586.wav\n",
      "/kaggle/input/shl-hiring-assessment/Dataset/audios/train/audio_226.wav\n",
      "/kaggle/input/shl-hiring-assessment/Dataset/audios/train/audio_426.wav\n",
      "/kaggle/input/shl-hiring-assessment/Dataset/audios/train/audio_1019.wav\n",
      "/kaggle/input/shl-hiring-assessment/Dataset/audios/train/audio_39.wav\n",
      "/kaggle/input/shl-hiring-assessment/Dataset/audios/train/audio_890.wav\n",
      "/kaggle/input/shl-hiring-assessment/Dataset/audios/train/audio_197.wav\n",
      "/kaggle/input/shl-hiring-assessment/Dataset/audios/train/audio_213.wav\n",
      "/kaggle/input/shl-hiring-assessment/Dataset/audios/train/audio_1168.wav\n",
      "/kaggle/input/shl-hiring-assessment/Dataset/audios/train/audio_1290.wav\n",
      "/kaggle/input/shl-hiring-assessment/Dataset/audios/train/audio_1339.wav\n",
      "/kaggle/input/shl-hiring-assessment/Dataset/audios/train/audio_136.wav\n",
      "/kaggle/input/shl-hiring-assessment/Dataset/audios/train/audio_893.wav\n",
      "/kaggle/input/shl-hiring-assessment/Dataset/audios/train/audio_1314.wav\n",
      "/kaggle/input/shl-hiring-assessment/Dataset/audios/train/audio_687.wav\n",
      "/kaggle/input/shl-hiring-assessment/Dataset/audios/train/audio_312.wav\n",
      "/kaggle/input/shl-hiring-assessment/Dataset/audios/train/audio_147.wav\n",
      "/kaggle/input/shl-hiring-assessment/Dataset/audios/train/audio_783.wav\n",
      "/kaggle/input/shl-hiring-assessment/Dataset/audios/train/audio_144.wav\n",
      "/kaggle/input/shl-hiring-assessment/Dataset/audios/train/audio_710.wav\n",
      "/kaggle/input/shl-hiring-assessment/Dataset/audios/train/audio_706.wav\n",
      "/kaggle/input/shl-hiring-assessment/Dataset/audios/train/audio_573.wav\n",
      "/kaggle/input/shl-hiring-assessment/Dataset/audios/train/audio_1214.wav\n",
      "/kaggle/input/shl-hiring-assessment/Dataset/audios/train/audio_139.wav\n",
      "/kaggle/input/shl-hiring-assessment/Dataset/audios/train/audio_503.wav\n",
      "/kaggle/input/shl-hiring-assessment/Dataset/audios/train/audio_134.wav\n",
      "/kaggle/input/shl-hiring-assessment/Dataset/audios/train/audio_18.wav\n",
      "/kaggle/input/shl-hiring-assessment/Dataset/audios/train/audio_116.wav\n",
      "/kaggle/input/shl-hiring-assessment/Dataset/audios/train/audio_789.wav\n",
      "/kaggle/input/shl-hiring-assessment/Dataset/audios/train/audio_1087.wav\n",
      "/kaggle/input/shl-hiring-assessment/Dataset/audios/train/audio_523.wav\n",
      "/kaggle/input/shl-hiring-assessment/Dataset/audios/train/audio_420.wav\n",
      "/kaggle/input/shl-hiring-assessment/Dataset/audios/train/audio_1156.wav\n",
      "/kaggle/input/shl-hiring-assessment/Dataset/audios/train/audio_135.wav\n",
      "/kaggle/input/shl-hiring-assessment/Dataset/audios/train/audio_1223.wav\n",
      "/kaggle/input/shl-hiring-assessment/Dataset/audios/train/audio_325.wav\n",
      "/kaggle/input/shl-hiring-assessment/Dataset/audios/train/audio_556.wav\n",
      "/kaggle/input/shl-hiring-assessment/Dataset/audios/train/audio_669.wav\n",
      "/kaggle/input/shl-hiring-assessment/Dataset/audios/train/audio_755.wav\n",
      "/kaggle/input/shl-hiring-assessment/Dataset/audios/train/audio_973.wav\n",
      "/kaggle/input/shl-hiring-assessment/Dataset/audios/train/audio_678.wav\n",
      "/kaggle/input/shl-hiring-assessment/Dataset/audios/train/audio_655.wav\n",
      "/kaggle/input/shl-hiring-assessment/Dataset/audios/train/audio_1265.wav\n",
      "/kaggle/input/shl-hiring-assessment/Dataset/audios/train/audio_250.wav\n",
      "/kaggle/input/shl-hiring-assessment/Dataset/audios/train/audio_1299.wav\n",
      "/kaggle/input/shl-hiring-assessment/Dataset/audios/train/audio_1174.wav\n",
      "/kaggle/input/shl-hiring-assessment/Dataset/audios/train/audio_512.wav\n",
      "/kaggle/input/shl-hiring-assessment/Dataset/audios/train/audio_150.wav\n",
      "/kaggle/input/shl-hiring-assessment/Dataset/audios/train/audio_392.wav\n",
      "/kaggle/input/shl-hiring-assessment/Dataset/audios/train/audio_73.wav\n",
      "/kaggle/input/shl-hiring-assessment/Dataset/audios/train/audio_43.wav\n",
      "/kaggle/input/shl-hiring-assessment/Dataset/audios/train/audio_712.wav\n",
      "/kaggle/input/shl-hiring-assessment/Dataset/audios/train/audio_437.wav\n",
      "/kaggle/input/shl-hiring-assessment/Dataset/audios/train/audio_613.wav\n",
      "/kaggle/input/shl-hiring-assessment/Dataset/audios/train/audio_493.wav\n",
      "/kaggle/input/shl-hiring-assessment/Dataset/audios/train/audio_704.wav\n",
      "/kaggle/input/shl-hiring-assessment/Dataset/audios/train/audio_431.wav\n",
      "/kaggle/input/shl-hiring-assessment/Dataset/audios/train/audio_3.wav\n",
      "/kaggle/input/shl-hiring-assessment/Dataset/audios/train/audio_832.wav\n",
      "/kaggle/input/shl-hiring-assessment/Dataset/audios/train/audio_428.wav\n",
      "/kaggle/input/shl-hiring-assessment/Dataset/audios/train/audio_658.wav\n",
      "/kaggle/input/shl-hiring-assessment/Dataset/audios/train/audio_58.wav\n",
      "/kaggle/input/shl-hiring-assessment/Dataset/audios/train/audio_471.wav\n",
      "/kaggle/input/shl-hiring-assessment/Dataset/audios/train/audio_1117.wav\n",
      "/kaggle/input/shl-hiring-assessment/Dataset/audios/train/audio_713.wav\n",
      "/kaggle/input/shl-hiring-assessment/Dataset/audios/train/audio_768.wav\n",
      "/kaggle/input/shl-hiring-assessment/Dataset/audios/train/audio_640.wav\n",
      "/kaggle/input/shl-hiring-assessment/Dataset/audios/train/audio_1023.wav\n",
      "/kaggle/input/shl-hiring-assessment/Dataset/audios/train/audio_566.wav\n",
      "/kaggle/input/shl-hiring-assessment/Dataset/audios/train/audio_1135.wav\n",
      "/kaggle/input/shl-hiring-assessment/Dataset/audios/train/audio_36.wav\n",
      "/kaggle/input/shl-hiring-assessment/Dataset/audios/train/audio_201.wav\n",
      "/kaggle/input/shl-hiring-assessment/Dataset/audios/train/audio_74.wav\n",
      "/kaggle/input/shl-hiring-assessment/Dataset/audios/train/audio_1320.wav\n",
      "/kaggle/input/shl-hiring-assessment/Dataset/audios/train/audio_1127.wav\n",
      "/kaggle/input/shl-hiring-assessment/Dataset/audios/train/audio_993.wav\n",
      "/kaggle/input/shl-hiring-assessment/Dataset/audios/train/audio_480.wav\n",
      "/kaggle/input/shl-hiring-assessment/Dataset/audios/train/audio_560.wav\n",
      "/kaggle/input/shl-hiring-assessment/Dataset/audios/train/audio_877.wav\n",
      "/kaggle/input/shl-hiring-assessment/Dataset/audios/train/audio_852.wav\n",
      "/kaggle/input/shl-hiring-assessment/Dataset/audios/train/audio_1096.wav\n",
      "/kaggle/input/shl-hiring-assessment/Dataset/audios/train/audio_514.wav\n",
      "/kaggle/input/shl-hiring-assessment/Dataset/audios/train/audio_696.wav\n",
      "/kaggle/input/shl-hiring-assessment/Dataset/audios/train/audio_1234.wav\n",
      "/kaggle/input/shl-hiring-assessment/Dataset/audios/train/audio_151.wav\n",
      "/kaggle/input/shl-hiring-assessment/Dataset/audios/train/audio_557.wav\n",
      "/kaggle/input/shl-hiring-assessment/Dataset/audios/train/audio_473.wav\n",
      "/kaggle/input/shl-hiring-assessment/Dataset/audios/train/audio_651.wav\n",
      "/kaggle/input/shl-hiring-assessment/Dataset/audios/train/audio_724.wav\n",
      "/kaggle/input/shl-hiring-assessment/Dataset/audios/train/audio_259.wav\n",
      "/kaggle/input/shl-hiring-assessment/Dataset/audios/train/audio_795.wav\n"
     ]
    }
   ],
   "source": [
    "# This Python 3 environment comes with many helpful analytics libraries installed\n",
    "# It is defined by the kaggle/python Docker image: https://github.com/kaggle/docker-python\n",
    "# For example, here's several helpful packages to load\n",
    "\n",
    "import numpy as np # linear algebra\n",
    "import pandas as pd # data processing, CSV file I/O (e.g. pd.read_csv)\n",
    "\n",
    "# Input data files are available in the read-only \"../input/\" directory\n",
    "# For example, running this (by clicking run or pressing Shift+Enter) will list all files under the input directory\n",
    "\n",
    "import os\n",
    "for dirname, _, filenames in os.walk('/kaggle/input'):\n",
    "    for filename in filenames:\n",
    "        print(os.path.join(dirname, filename))\n",
    "\n",
    "# You can write up to 20GB to the current directory (/kaggle/working/) that gets preserved as output when you create a version using \"Save & Run All\" \n",
    "# You can also write temporary files to /kaggle/temp/, but they won't be saved outside of the current session"
   ]
  },
  {
   "cell_type": "code",
   "execution_count": 2,
   "id": "708238ca",
   "metadata": {
    "execution": {
     "iopub.execute_input": "2025-05-09T05:22:04.285091Z",
     "iopub.status.busy": "2025-05-09T05:22:04.284612Z",
     "iopub.status.idle": "2025-05-09T05:22:04.327395Z",
     "shell.execute_reply": "2025-05-09T05:22:04.326414Z"
    },
    "papermill": {
     "duration": 0.050283,
     "end_time": "2025-05-09T05:22:04.328896",
     "exception": false,
     "start_time": "2025-05-09T05:22:04.278613",
     "status": "completed"
    },
    "tags": []
   },
   "outputs": [
    {
     "data": {
      "text/html": [
       "<div>\n",
       "<style scoped>\n",
       "    .dataframe tbody tr th:only-of-type {\n",
       "        vertical-align: middle;\n",
       "    }\n",
       "\n",
       "    .dataframe tbody tr th {\n",
       "        vertical-align: top;\n",
       "    }\n",
       "\n",
       "    .dataframe thead th {\n",
       "        text-align: right;\n",
       "    }\n",
       "</style>\n",
       "<table border=\"1\" class=\"dataframe\">\n",
       "  <thead>\n",
       "    <tr style=\"text-align: right;\">\n",
       "      <th></th>\n",
       "      <th>filename</th>\n",
       "      <th>label</th>\n",
       "    </tr>\n",
       "  </thead>\n",
       "  <tbody>\n",
       "    <tr>\n",
       "      <th>0</th>\n",
       "      <td>audio_710.wav</td>\n",
       "      <td>1.0</td>\n",
       "    </tr>\n",
       "    <tr>\n",
       "      <th>1</th>\n",
       "      <td>audio_1265.wav</td>\n",
       "      <td>1.0</td>\n",
       "    </tr>\n",
       "    <tr>\n",
       "      <th>2</th>\n",
       "      <td>audio_1114.wav</td>\n",
       "      <td>1.5</td>\n",
       "    </tr>\n",
       "    <tr>\n",
       "      <th>3</th>\n",
       "      <td>audio_946.wav</td>\n",
       "      <td>1.5</td>\n",
       "    </tr>\n",
       "    <tr>\n",
       "      <th>4</th>\n",
       "      <td>audio_1127.wav</td>\n",
       "      <td>2.0</td>\n",
       "    </tr>\n",
       "  </tbody>\n",
       "</table>\n",
       "</div>"
      ],
      "text/plain": [
       "         filename  label\n",
       "0   audio_710.wav    1.0\n",
       "1  audio_1265.wav    1.0\n",
       "2  audio_1114.wav    1.5\n",
       "3   audio_946.wav    1.5\n",
       "4  audio_1127.wav    2.0"
      ]
     },
     "execution_count": 2,
     "metadata": {},
     "output_type": "execute_result"
    }
   ],
   "source": [
    "train_df=pd.read_csv(\"/kaggle/input/shl-hiring-assessment/Dataset/train.csv\")\n",
    "train_df.head()"
   ]
  },
  {
   "cell_type": "code",
   "execution_count": 3,
   "id": "aec65394",
   "metadata": {
    "execution": {
     "iopub.execute_input": "2025-05-09T05:22:04.339960Z",
     "iopub.status.busy": "2025-05-09T05:22:04.339655Z",
     "iopub.status.idle": "2025-05-09T05:22:04.354170Z",
     "shell.execute_reply": "2025-05-09T05:22:04.353372Z"
    },
    "papermill": {
     "duration": 0.021515,
     "end_time": "2025-05-09T05:22:04.355452",
     "exception": false,
     "start_time": "2025-05-09T05:22:04.333937",
     "status": "completed"
    },
    "tags": []
   },
   "outputs": [
    {
     "data": {
      "text/plain": [
       "label\n",
       "5.0    150\n",
       "4.0     82\n",
       "4.5     68\n",
       "3.0     51\n",
       "2.0     44\n",
       "2.5     26\n",
       "3.5     19\n",
       "1.0      2\n",
       "1.5      2\n",
       "Name: count, dtype: int64"
      ]
     },
     "execution_count": 3,
     "metadata": {},
     "output_type": "execute_result"
    }
   ],
   "source": [
    "train_df.label.value_counts()\n"
   ]
  },
  {
   "cell_type": "code",
   "execution_count": 4,
   "id": "014e459d",
   "metadata": {
    "execution": {
     "iopub.execute_input": "2025-05-09T05:22:04.366814Z",
     "iopub.status.busy": "2025-05-09T05:22:04.366438Z",
     "iopub.status.idle": "2025-05-09T05:22:20.686807Z",
     "shell.execute_reply": "2025-05-09T05:22:20.685900Z"
    },
    "papermill": {
     "duration": 16.327795,
     "end_time": "2025-05-09T05:22:20.688294",
     "exception": false,
     "start_time": "2025-05-09T05:22:04.360499",
     "status": "completed"
    },
    "tags": []
   },
   "outputs": [
    {
     "data": {
      "text/plain": [
       "22050"
      ]
     },
     "execution_count": 4,
     "metadata": {},
     "output_type": "execute_result"
    }
   ],
   "source": [
    "import librosa\n",
    "file=\"/kaggle/input/shl-hiring-assessment/Dataset/audios/train/audio_1002.wav\"\n",
    "da, sample_rate=librosa.load(file)\n",
    "\n",
    "sample_rate"
   ]
  },
  {
   "cell_type": "code",
   "execution_count": 5,
   "id": "8f9f3006",
   "metadata": {
    "execution": {
     "iopub.execute_input": "2025-05-09T05:22:20.699607Z",
     "iopub.status.busy": "2025-05-09T05:22:20.699147Z",
     "iopub.status.idle": "2025-05-09T05:22:21.315999Z",
     "shell.execute_reply": "2025-05-09T05:22:21.315170Z"
    },
    "papermill": {
     "duration": 0.623945,
     "end_time": "2025-05-09T05:22:21.317332",
     "exception": false,
     "start_time": "2025-05-09T05:22:20.693387",
     "status": "completed"
    },
    "tags": []
   },
   "outputs": [
    {
     "data": {
      "text/plain": [
       "[<matplotlib.lines.Line2D at 0x7ec0cb7a1b50>]"
      ]
     },
     "execution_count": 5,
     "metadata": {},
     "output_type": "execute_result"
    },
    {
     "data": {
      "image/png": "[encoded data removed]",
      "text/plain": [
       "<Figure size 640x480 with 1 Axes>"
      ]
     },
     "metadata": {},
     "output_type": "display_data"
    }
   ],
   "source": [
    "import matplotlib.pyplot as plt\n",
    "plt.plot(da)"
   ]
  },
  {
   "cell_type": "code",
   "execution_count": 6,
   "id": "d2941ef7",
   "metadata": {
    "execution": {
     "iopub.execute_input": "2025-05-09T05:22:21.329678Z",
     "iopub.status.busy": "2025-05-09T05:22:21.329377Z",
     "iopub.status.idle": "2025-05-09T05:22:23.078981Z",
     "shell.execute_reply": "2025-05-09T05:22:23.078054Z"
    },
    "papermill": {
     "duration": 1.757812,
     "end_time": "2025-05-09T05:22:23.080650",
     "exception": false,
     "start_time": "2025-05-09T05:22:21.322838",
     "status": "completed"
    },
    "tags": []
   },
   "outputs": [
    {
     "name": "stdout",
     "output_type": "stream",
     "text": [
      "(40, 2588)\n"
     ]
    }
   ],
   "source": [
    "#extract features\n",
    "mfccs=librosa.feature.mfcc(y=da,sr=sample_rate, n_mfcc=40)\n",
    "print(mfccs.shape)"
   ]
  },
  {
   "cell_type": "code",
   "execution_count": 7,
   "id": "d020b829",
   "metadata": {
    "execution": {
     "iopub.execute_input": "2025-05-09T05:22:23.093352Z",
     "iopub.status.busy": "2025-05-09T05:22:23.092865Z",
     "iopub.status.idle": "2025-05-09T05:22:23.099199Z",
     "shell.execute_reply": "2025-05-09T05:22:23.098188Z"
    },
    "papermill": {
     "duration": 0.014248,
     "end_time": "2025-05-09T05:22:23.100738",
     "exception": false,
     "start_time": "2025-05-09T05:22:23.086490",
     "status": "completed"
    },
    "tags": []
   },
   "outputs": [],
   "source": [
    "import librosa\n",
    "def extract_features(filename):\n",
    "    data, sample_rate=librosa.load(filename)\n",
    "    mfccs_features=librosa.feature.mfcc(y=data,sr=sample_rate, n_mfcc=30)\n",
    "    mfccs_scaled=np.mean(mfccs_features.T, axis=0)\n",
    "    zcr = np.mean(librosa.feature.zero_crossing_rate(data))\n",
    "    chroma = np.mean(librosa.feature.chroma_stft(y=data, sr=sample_rate))\n",
    "    contrast = np.mean(librosa.feature.spectral_contrast(y=data, sr=sample_rate))\n",
    "    full_feature = np.hstack([mfccs_scaled, zcr, chroma, contrast])\n",
    "\n",
    "    return full_feature"
   ]
  },
  {
   "cell_type": "code",
   "execution_count": 8,
   "id": "305c1fa8",
   "metadata": {
    "execution": {
     "iopub.execute_input": "2025-05-09T05:22:23.113053Z",
     "iopub.status.busy": "2025-05-09T05:22:23.112508Z",
     "iopub.status.idle": "2025-05-09T05:27:46.769936Z",
     "shell.execute_reply": "2025-05-09T05:27:46.768965Z"
    },
    "papermill": {
     "duration": 323.665113,
     "end_time": "2025-05-09T05:27:46.771362",
     "exception": false,
     "start_time": "2025-05-09T05:22:23.106249",
     "status": "completed"
    },
    "tags": []
   },
   "outputs": [
    {
     "name": "stderr",
     "output_type": "stream",
     "text": [
      "444it [05:23,  1.37it/s]\n"
     ]
    }
   ],
   "source": [
    "import numpy as np\n",
    "from tqdm import tqdm\n",
    "\n",
    "train_path=\"/kaggle/input/shl-hiring-assessment/Dataset/audios/train\"\n",
    "\n",
    "extracted=[]\n",
    "for index_num,row in tqdm(train_df.iterrows()):\n",
    "    fn=os.path.join(os.path.abspath(train_path), str(row['filename']))\n",
    "    data=extract_features(fn)\n",
    "    final_label=row['label']\n",
    "    extracted.append([data, final_label])\n",
    "    "
   ]
  },
  {
   "cell_type": "code",
   "execution_count": 9,
   "id": "93017a02",
   "metadata": {
    "execution": {
     "iopub.execute_input": "2025-05-09T05:27:46.823870Z",
     "iopub.status.busy": "2025-05-09T05:27:46.822850Z",
     "iopub.status.idle": "2025-05-09T05:27:46.835829Z",
     "shell.execute_reply": "2025-05-09T05:27:46.834951Z"
    },
    "papermill": {
     "duration": 0.040613,
     "end_time": "2025-05-09T05:27:46.837387",
     "exception": false,
     "start_time": "2025-05-09T05:27:46.796774",
     "status": "completed"
    },
    "tags": []
   },
   "outputs": [
    {
     "data": {
      "text/html": [
       "<div>\n",
       "<style scoped>\n",
       "    .dataframe tbody tr th:only-of-type {\n",
       "        vertical-align: middle;\n",
       "    }\n",
       "\n",
       "    .dataframe tbody tr th {\n",
       "        vertical-align: top;\n",
       "    }\n",
       "\n",
       "    .dataframe thead th {\n",
       "        text-align: right;\n",
       "    }\n",
       "</style>\n",
       "<table border=\"1\" class=\"dataframe\">\n",
       "  <thead>\n",
       "    <tr style=\"text-align: right;\">\n",
       "      <th></th>\n",
       "      <th>feature</th>\n",
       "      <th>label</th>\n",
       "    </tr>\n",
       "  </thead>\n",
       "  <tbody>\n",
       "    <tr>\n",
       "      <th>0</th>\n",
       "      <td>[-358.4134521484375, 97.34856414794922, -21.39...</td>\n",
       "      <td>1.0</td>\n",
       "    </tr>\n",
       "    <tr>\n",
       "      <th>1</th>\n",
       "      <td>[-491.02215576171875, 50.90874481201172, 5.274...</td>\n",
       "      <td>1.0</td>\n",
       "    </tr>\n",
       "    <tr>\n",
       "      <th>2</th>\n",
       "      <td>[-484.9112243652344, 61.28273391723633, -4.729...</td>\n",
       "      <td>1.5</td>\n",
       "    </tr>\n",
       "    <tr>\n",
       "      <th>3</th>\n",
       "      <td>[-429.4405517578125, 32.125301361083984, -4.88...</td>\n",
       "      <td>1.5</td>\n",
       "    </tr>\n",
       "    <tr>\n",
       "      <th>4</th>\n",
       "      <td>[-365.2108154296875, 94.52581787109375, -0.918...</td>\n",
       "      <td>2.0</td>\n",
       "    </tr>\n",
       "  </tbody>\n",
       "</table>\n",
       "</div>"
      ],
      "text/plain": [
       "                                             feature  label\n",
       "0  [-358.4134521484375, 97.34856414794922, -21.39...    1.0\n",
       "1  [-491.02215576171875, 50.90874481201172, 5.274...    1.0\n",
       "2  [-484.9112243652344, 61.28273391723633, -4.729...    1.5\n",
       "3  [-429.4405517578125, 32.125301361083984, -4.88...    1.5\n",
       "4  [-365.2108154296875, 94.52581787109375, -0.918...    2.0"
      ]
     },
     "execution_count": 9,
     "metadata": {},
     "output_type": "execute_result"
    }
   ],
   "source": [
    "df=pd.DataFrame(extracted, columns=['feature','label'])\n",
    "df.head()"
   ]
  },
  {
   "cell_type": "code",
   "execution_count": 10,
   "id": "4d4b5ce9",
   "metadata": {
    "execution": {
     "iopub.execute_input": "2025-05-09T05:27:46.889795Z",
     "iopub.status.busy": "2025-05-09T05:27:46.889163Z",
     "iopub.status.idle": "2025-05-09T05:27:46.895684Z",
     "shell.execute_reply": "2025-05-09T05:27:46.894803Z"
    },
    "papermill": {
     "duration": 0.034307,
     "end_time": "2025-05-09T05:27:46.897078",
     "exception": false,
     "start_time": "2025-05-09T05:27:46.862771",
     "status": "completed"
    },
    "tags": []
   },
   "outputs": [
    {
     "data": {
      "text/plain": [
       "(444, 33)"
      ]
     },
     "execution_count": 10,
     "metadata": {},
     "output_type": "execute_result"
    }
   ],
   "source": [
    "X=np.array(df.feature.tolist())\n",
    "X.shape"
   ]
  },
  {
   "cell_type": "code",
   "execution_count": 11,
   "id": "e6785767",
   "metadata": {
    "execution": {
     "iopub.execute_input": "2025-05-09T05:27:46.950193Z",
     "iopub.status.busy": "2025-05-09T05:27:46.949572Z",
     "iopub.status.idle": "2025-05-09T05:27:46.955687Z",
     "shell.execute_reply": "2025-05-09T05:27:46.954788Z"
    },
    "papermill": {
     "duration": 0.035048,
     "end_time": "2025-05-09T05:27:46.957343",
     "exception": false,
     "start_time": "2025-05-09T05:27:46.922295",
     "status": "completed"
    },
    "tags": []
   },
   "outputs": [
    {
     "data": {
      "text/plain": [
       "(444,)"
      ]
     },
     "execution_count": 11,
     "metadata": {},
     "output_type": "execute_result"
    }
   ],
   "source": [
    "y=np.array(df.label.tolist())\n",
    "y.shape\n"
   ]
  },
  {
   "cell_type": "code",
   "execution_count": 12,
   "id": "d28b0df6",
   "metadata": {
    "execution": {
     "iopub.execute_input": "2025-05-09T05:27:47.081523Z",
     "iopub.status.busy": "2025-05-09T05:27:47.080567Z",
     "iopub.status.idle": "2025-05-09T05:27:47.308904Z",
     "shell.execute_reply": "2025-05-09T05:27:47.307916Z"
    },
    "papermill": {
     "duration": 0.257275,
     "end_time": "2025-05-09T05:27:47.310565",
     "exception": false,
     "start_time": "2025-05-09T05:27:47.053290",
     "status": "completed"
    },
    "tags": []
   },
   "outputs": [],
   "source": [
    "from sklearn.model_selection import train_test_split\n",
    "X_train,X_test,y_train,y_test=train_test_split(X,y,test_size=0.20,random_state=42)"
   ]
  },
  {
   "cell_type": "code",
   "execution_count": 13,
   "id": "e62224e4",
   "metadata": {
    "execution": {
     "iopub.execute_input": "2025-05-09T05:27:47.363859Z",
     "iopub.status.busy": "2025-05-09T05:27:47.363521Z",
     "iopub.status.idle": "2025-05-09T05:27:47.622601Z",
     "shell.execute_reply": "2025-05-09T05:27:47.621683Z"
    },
    "papermill": {
     "duration": 0.287742,
     "end_time": "2025-05-09T05:27:47.624166",
     "exception": false,
     "start_time": "2025-05-09T05:27:47.336424",
     "status": "completed"
    },
    "tags": []
   },
   "outputs": [],
   "source": [
    "from xgboost import XGBRegressor\n",
    "from sklearn.model_selection import RandomizedSearchCV\n",
    "from sklearn.metrics import make_scorer, mean_absolute_error"
   ]
  },
  {
   "cell_type": "code",
   "execution_count": 14,
   "id": "6397f2da",
   "metadata": {
    "execution": {
     "iopub.execute_input": "2025-05-09T05:27:47.676883Z",
     "iopub.status.busy": "2025-05-09T05:27:47.676543Z",
     "iopub.status.idle": "2025-05-09T05:27:48.222386Z",
     "shell.execute_reply": "2025-05-09T05:27:48.221211Z"
    },
    "papermill": {
     "duration": 0.573935,
     "end_time": "2025-05-09T05:27:48.223958",
     "exception": false,
     "start_time": "2025-05-09T05:27:47.650023",
     "status": "completed"
    },
    "tags": []
   },
   "outputs": [
    {
     "data": {
      "text/html": [
       "<style>#sk-container-id-1 {color: black;background-color: white;}#sk-container-id-1 pre{padding: 0;}#sk-container-id-1 div.sk-toggleable {background-color: white;}#sk-container-id-1 label.sk-toggleable__label {cursor: pointer;display: block;width: 100%;margin-bottom: 0;padding: 0.3em;box-sizing: border-box;text-align: center;}#sk-container-id-1 label.sk-toggleable__label-arrow:before {content: \"▸\";float: left;margin-right: 0.25em;color: #696969;}#sk-container-id-1 label.sk-toggleable__label-arrow:hover:before {color: black;}#sk-container-id-1 div.sk-estimator:hover label.sk-toggleable__label-arrow:before {color: black;}#sk-container-id-1 div.sk-toggleable__content {max-height: 0;max-width: 0;overflow: hidden;text-align: left;background-color: #f0f8ff;}#sk-container-id-1 div.sk-toggleable__content pre {margin: 0.2em;color: black;border-radius: 0.25em;background-color: #f0f8ff;}#sk-container-id-1 input.sk-toggleable__control:checked~div.sk-toggleable__content {max-height: 200px;max-width: 100%;overflow: auto;}#sk-container-id-1 input.sk-toggleable__control:checked~label.sk-toggleable__label-arrow:before {content: \"▾\";}#sk-container-id-1 div.sk-estimator input.sk-toggleable__control:checked~label.sk-toggleable__label {background-color: #d4ebff;}#sk-container-id-1 div.sk-label input.sk-toggleable__control:checked~label.sk-toggleable__label {background-color: #d4ebff;}#sk-container-id-1 input.sk-hidden--visually {border: 0;clip: rect(1px 1px 1px 1px);clip: rect(1px, 1px, 1px, 1px);height: 1px;margin: -1px;overflow: hidden;padding: 0;position: absolute;width: 1px;}#sk-container-id-1 div.sk-estimator {font-family: monospace;background-color: #f0f8ff;border: 1px dotted black;border-radius: 0.25em;box-sizing: border-box;margin-bottom: 0.5em;}#sk-container-id-1 div.sk-estimator:hover {background-color: #d4ebff;}#sk-container-id-1 div.sk-parallel-item::after {content: \"\";width: 100%;border-bottom: 1px solid gray;flex-grow: 1;}#sk-container-id-1 div.sk-label:hover label.sk-toggleable__label {background-color: #d4ebff;}#sk-container-id-1 div.sk-serial::before {content: \"\";position: absolute;border-left: 1px solid gray;box-sizing: border-box;top: 0;bottom: 0;left: 50%;z-index: 0;}#sk-container-id-1 div.sk-serial {display: flex;flex-direction: column;align-items: center;background-color: white;padding-right: 0.2em;padding-left: 0.2em;position: relative;}#sk-container-id-1 div.sk-item {position: relative;z-index: 1;}#sk-container-id-1 div.sk-parallel {display: flex;align-items: stretch;justify-content: center;background-color: white;position: relative;}#sk-container-id-1 div.sk-item::before, #sk-container-id-1 div.sk-parallel-item::before {content: \"\";position: absolute;border-left: 1px solid gray;box-sizing: border-box;top: 0;bottom: 0;left: 50%;z-index: -1;}#sk-container-id-1 div.sk-parallel-item {display: flex;flex-direction: column;z-index: 1;position: relative;background-color: white;}#sk-container-id-1 div.sk-parallel-item:first-child::after {align-self: flex-end;width: 50%;}#sk-container-id-1 div.sk-parallel-item:last-child::after {align-self: flex-start;width: 50%;}#sk-container-id-1 div.sk-parallel-item:only-child::after {width: 0;}#sk-container-id-1 div.sk-dashed-wrapped {border: 1px dashed gray;margin: 0 0.4em 0.5em 0.4em;box-sizing: border-box;padding-bottom: 0.4em;background-color: white;}#sk-container-id-1 div.sk-label label {font-family: monospace;font-weight: bold;display: inline-block;line-height: 1.2em;}#sk-container-id-1 div.sk-label-container {text-align: center;}#sk-container-id-1 div.sk-container {/* jupyter's `normalize.less` sets `[hidden] { display: none; }` but bootstrap.min.css set `[hidden] { display: none !important; }` so we also need the `!important` here to be able to override the default hidden behavior on the sphinx rendered scikit-learn.org. See: https://github.com/scikit-learn/scikit-learn/issues/21755 */display: inline-block !important;position: relative;}#sk-container-id-1 div.sk-text-repr-fallback {display: none;}</style><div id=\"sk-container-id-1\" class=\"sk-top-container\"><div class=\"sk-text-repr-fallback\"><pre>XGBRegressor(base_score=None, booster=None, callbacks=None,\n",
       "             colsample_bylevel=None, colsample_bynode=None, colsample_bytree=1,\n",
       "             device=None, early_stopping_rounds=None, enable_categorical=False,\n",
       "             eval_metric=None, feature_types=None, gamma=0.1, grow_policy=None,\n",
       "             importance_type=None, interaction_constraints=None,\n",
       "             learning_rate=0.05, max_bin=None, max_cat_threshold=None,\n",
       "             max_cat_to_onehot=None, max_delta_step=None, max_depth=5,\n",
       "             max_leaves=None, min_child_weight=3, missing=nan,\n",
       "             monotone_constraints=None, multi_strategy=None, n_estimators=500,\n",
       "             n_jobs=None, num_parallel_tree=None, random_state=None, ...)</pre><b>In a Jupyter environment, please rerun this cell to show the HTML representation or trust the notebook. <br />On GitHub, the HTML representation is unable to render, please try loading this page with nbviewer.org.</b></div><div class=\"sk-container\" hidden><div class=\"sk-item\"><div class=\"sk-estimator sk-toggleable\"><input class=\"sk-toggleable__control sk-hidden--visually\" id=\"sk-estimator-id-1\" type=\"checkbox\" checked><label for=\"sk-estimator-id-1\" class=\"sk-toggleable__label sk-toggleable__label-arrow\">XGBRegressor</label><div class=\"sk-toggleable__content\"><pre>XGBRegressor(base_score=None, booster=None, callbacks=None,\n",
       "             colsample_bylevel=None, colsample_bynode=None, colsample_bytree=1,\n",
       "             device=None, early_stopping_rounds=None, enable_categorical=False,\n",
       "             eval_metric=None, feature_types=None, gamma=0.1, grow_policy=None,\n",
       "             importance_type=None, interaction_constraints=None,\n",
       "             learning_rate=0.05, max_bin=None, max_cat_threshold=None,\n",
       "             max_cat_to_onehot=None, max_delta_step=None, max_depth=5,\n",
       "             max_leaves=None, min_child_weight=3, missing=nan,\n",
       "             monotone_constraints=None, multi_strategy=None, n_estimators=500,\n",
       "             n_jobs=None, num_parallel_tree=None, random_state=None, ...)</pre></div></div></div></div></div>"
      ],
      "text/plain": [
       "XGBRegressor(base_score=None, booster=None, callbacks=None,\n",
       "             colsample_bylevel=None, colsample_bynode=None, colsample_bytree=1,\n",
       "             device=None, early_stopping_rounds=None, enable_categorical=False,\n",
       "             eval_metric=None, feature_types=None, gamma=0.1, grow_policy=None,\n",
       "             importance_type=None, interaction_constraints=None,\n",
       "             learning_rate=0.05, max_bin=None, max_cat_threshold=None,\n",
       "             max_cat_to_onehot=None, max_delta_step=None, max_depth=5,\n",
       "             max_leaves=None, min_child_weight=3, missing=nan,\n",
       "             monotone_constraints=None, multi_strategy=None, n_estimators=500,\n",
       "             n_jobs=None, num_parallel_tree=None, random_state=None, ...)"
      ]
     },
     "execution_count": 14,
     "metadata": {},
     "output_type": "execute_result"
    }
   ],
   "source": [
    "#hyperparameters found through randomizedserachcv\n",
    "xgbmodel=XGBRegressor(subsample=0.8,n_estimators=500, min_child_weight=3,\n",
    "                     max_depth=5, learning_rate=0.05,gamma=0.1,colsample_bytree=1)\n",
    "\n",
    "xgbmodel.fit(X_train, y_train)"
   ]
  },
  {
   "cell_type": "code",
   "execution_count": 15,
   "id": "d8ee92d0",
   "metadata": {
    "execution": {
     "iopub.execute_input": "2025-05-09T05:27:48.279549Z",
     "iopub.status.busy": "2025-05-09T05:27:48.279195Z",
     "iopub.status.idle": "2025-05-09T05:27:48.288816Z",
     "shell.execute_reply": "2025-05-09T05:27:48.287034Z"
    },
    "papermill": {
     "duration": 0.038522,
     "end_time": "2025-05-09T05:27:48.290612",
     "exception": false,
     "start_time": "2025-05-09T05:27:48.252090",
     "status": "completed"
    },
    "tags": []
   },
   "outputs": [
    {
     "name": "stdout",
     "output_type": "stream",
     "text": [
      "mean_squared_error: 0.7967121654792886\n",
      "mean_abs_error: 0.7378328676973835\n"
     ]
    }
   ],
   "source": [
    "from sklearn.metrics import mean_squared_error, accuracy_score,mean_absolute_error\n",
    "y_pred=xgbmodel.predict(X_test)\n",
    "print(\"mean_squared_error:\", mean_squared_error(y_test,y_pred))\n",
    "print(\"mean_abs_error:\", mean_absolute_error(y_test,y_pred))"
   ]
  },
  {
   "cell_type": "code",
   "execution_count": 16,
   "id": "cc404bc9",
   "metadata": {
    "execution": {
     "iopub.execute_input": "2025-05-09T05:27:48.347733Z",
     "iopub.status.busy": "2025-05-09T05:27:48.347378Z",
     "iopub.status.idle": "2025-05-09T05:30:07.816953Z",
     "shell.execute_reply": "2025-05-09T05:30:07.815915Z"
    },
    "papermill": {
     "duration": 139.498714,
     "end_time": "2025-05-09T05:30:07.818591",
     "exception": false,
     "start_time": "2025-05-09T05:27:48.319877",
     "status": "completed"
    },
    "tags": []
   },
   "outputs": [
    {
     "name": "stderr",
     "output_type": "stream",
     "text": [
      "204it [02:19,  1.46it/s]\n"
     ]
    }
   ],
   "source": [
    "import numpy as np\n",
    "from tqdm import tqdm\n",
    "\n",
    "test_path=\"/kaggle/input/shl-hiring-assessment/Dataset/audios/test\"\n",
    "test_df=pd.read_csv(\"/kaggle/input/shl-hiring-assessment/Dataset/test.csv\")\n",
    "\n",
    "extracted=[]\n",
    "for index_num,row in tqdm(test_df.iterrows()):\n",
    "    fn=os.path.join(os.path.abspath(test_path), str(row['filename']))\n",
    "    data=extract_features(fn)\n",
    "    \n",
    "    extracted.append([data])"
   ]
  },
  {
   "cell_type": "code",
   "execution_count": 17,
   "id": "1a0a527a",
   "metadata": {
    "execution": {
     "iopub.execute_input": "2025-05-09T05:30:07.893536Z",
     "iopub.status.busy": "2025-05-09T05:30:07.893245Z",
     "iopub.status.idle": "2025-05-09T05:30:07.905569Z",
     "shell.execute_reply": "2025-05-09T05:30:07.903560Z"
    },
    "papermill": {
     "duration": 0.052068,
     "end_time": "2025-05-09T05:30:07.907675",
     "exception": false,
     "start_time": "2025-05-09T05:30:07.855607",
     "status": "completed"
    },
    "tags": []
   },
   "outputs": [
    {
     "name": "stdout",
     "output_type": "stream",
     "text": [
      "[3.1794124 4.017168  3.2922192 3.09518   2.787956  3.6751125 4.204104\n",
      " 3.3687546 2.7118444 3.090801  2.786832  2.7850754 3.8247461 2.7477772\n",
      " 3.8971887 3.0810049 4.071075  3.2759135 2.7513297 3.0407593 3.2572248\n",
      " 3.7328734 4.1515203 2.081749  4.0195    4.2833066 3.244904  3.3731887\n",
      " 4.0900116 3.9779472 4.1874475 2.911134  4.112199  3.6315498 4.3092117\n",
      " 3.8311372 3.166505  3.2950437 4.414579  3.3664582 4.3607817 3.8251648\n",
      " 3.5924337 3.68562   3.1333232 3.5959332 4.049684  3.8962061 3.947358\n",
      " 4.3140993 4.6157856 4.056716  3.469872  4.140836  2.850865  4.5381637\n",
      " 3.8477404 4.316853  3.2480962 4.1747117 3.9446619 3.719353  3.6380394\n",
      " 4.0840483 4.535129  4.315724  4.008442  4.0214586 3.7883923 4.5815797\n",
      " 2.966911  3.5363255 3.724176  3.3350801 2.9320815 4.1137056 3.910031\n",
      " 3.0896814 3.0937276 4.613949  4.2143865 4.4278193 3.046405  3.9363034\n",
      " 3.842769  3.270388  3.6809907 4.8964562 3.6617248 4.104824  4.010953\n",
      " 3.2954373 2.9620252 4.2331495 3.9203656 3.592788  3.2307599 3.3075118\n",
      " 4.4007545 3.6453753 3.874572  2.8160717 3.2081313 3.882466  3.764125\n",
      " 3.81101   4.0969005 3.0555604 3.9067516 3.785111  2.9707174 3.226083\n",
      " 3.4582288 4.4996924 4.310992  3.14776   4.0334415 3.9312084 3.8097064\n",
      " 4.159179  4.3576894 3.7271852 3.0744984 3.1502578 3.5892582 4.863477\n",
      " 4.4624023 3.0959182 4.8277345 4.39511   3.1189077 4.4487557 4.220379\n",
      " 3.7207277 4.2173905 4.2103634 4.2289124 4.6490765 4.4840264 4.5478334\n",
      " 4.035567  3.7105124 3.8154776 3.8569748 2.9060676 3.9191272 4.259928\n",
      " 4.0288625 4.016243  3.5834415 4.3737    4.0400305 4.743002  3.228525\n",
      " 4.8807387 4.2736945 4.4432993 3.8941972 3.8176131 4.370123  4.266143\n",
      " 3.757042  4.1092033 3.938191  5.1012897 4.2970204 4.6543617 4.273611\n",
      " 3.9697893 4.050566  3.5531728 4.296428  3.7120771 3.7264745 4.4930854\n",
      " 3.8936872 4.1615434 4.767578  4.050322  4.795767  3.848361  4.3876815\n",
      " 4.420187  4.622094  4.1792874 4.055425  4.607436  3.767657  4.3027105\n",
      " 4.3230553 4.443496  4.0515885 4.3834558 3.8772929 4.438783  4.8272543\n",
      " 4.225577  4.414908  4.719291  3.937307  4.4538684 3.9972894 3.7771528\n",
      " 4.262794 ]\n"
     ]
    }
   ],
   "source": [
    "df2=pd.DataFrame(extracted, columns=['feature'])\n",
    "test_X=np.array(df2.feature.tolist())\n",
    "\n",
    "final_preds=xgbmodel.predict(test_X)\n",
    "\n",
    "print(final_preds)"
   ]
  },
  {
   "cell_type": "code",
   "execution_count": 18,
   "id": "a4900d79",
   "metadata": {
    "execution": {
     "iopub.execute_input": "2025-05-09T05:30:07.988186Z",
     "iopub.status.busy": "2025-05-09T05:30:07.987820Z",
     "iopub.status.idle": "2025-05-09T05:30:07.993331Z",
     "shell.execute_reply": "2025-05-09T05:30:07.992288Z"
    },
    "papermill": {
     "duration": 0.046059,
     "end_time": "2025-05-09T05:30:07.994848",
     "exception": false,
     "start_time": "2025-05-09T05:30:07.948789",
     "status": "completed"
    },
    "tags": []
   },
   "outputs": [],
   "source": [
    "submission=pd.DataFrame({'filename':test_df.filename,'label':final_preds})"
   ]
  },
  {
   "cell_type": "code",
   "execution_count": 19,
   "id": "2b24ebd2",
   "metadata": {
    "execution": {
     "iopub.execute_input": "2025-05-09T05:30:08.072102Z",
     "iopub.status.busy": "2025-05-09T05:30:08.071713Z",
     "iopub.status.idle": "2025-05-09T05:30:08.082654Z",
     "shell.execute_reply": "2025-05-09T05:30:08.081683Z"
    },
    "papermill": {
     "duration": 0.051982,
     "end_time": "2025-05-09T05:30:08.084480",
     "exception": false,
     "start_time": "2025-05-09T05:30:08.032498",
     "status": "completed"
    },
    "tags": []
   },
   "outputs": [],
   "source": [
    "submission.to_csv('submission.csv',index=False)\n"
   ]
  },
  {
   "cell_type": "code",
   "execution_count": null,
   "id": "760003c5",
   "metadata": {
    "papermill": {
     "duration": 0.040188,
     "end_time": "2025-05-09T05:30:08.165805",
     "exception": false,
     "start_time": "2025-05-09T05:30:08.125617",
     "status": "completed"
    },
    "tags": []
   },
   "outputs": [],
   "source": []
  }
 ],
 "metadata": {
  "kaggle": {
   "accelerator": "none",
   "dataSources": [
    {
     "databundleVersionId": 12154175,
     "sourceId": 100991,
     "sourceType": "competition"
    }
   ],
   "dockerImageVersionId": 31012,
   "isGpuEnabled": false,
   "isInternetEnabled": true,
   "language": "python",
   "sourceType": "notebook"
  },
  "kernelspec": {
   "display_name": "Python 3",
   "language": "python",
   "name": "python3"
  },
  "language_info": {
   "codemirror_mode": {
    "name": "ipython",
    "version": 3
   },
   "file_extension": ".py",
   "mimetype": "text/x-python",
   "name": "python",
   "nbconvert_exporter": "python",
   "pygments_lexer": "ipython3",
   "version": "3.11.11"
  },
  "papermill": {
   "default_parameters": {},
   "duration": 494.448984,
   "end_time": "2025-05-09T05:30:09.327778",
   "environment_variables": {},
   "exception": null,
   "input_path": "__notebook__.ipynb",
   "output_path": "__notebook__.ipynb",
   "parameters": {},
   "start_time": "2025-05-09T05:21:54.878794",
   "version": "2.6.0"
  }
 },
 "nbformat": 4,
 "nbformat_minor": 5
}
